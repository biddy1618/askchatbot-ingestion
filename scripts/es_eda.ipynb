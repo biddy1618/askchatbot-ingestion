{
 "cells": [
  {
   "cell_type": "markdown",
   "metadata": {},
   "source": [
    "# EDA of data"
   ]
  },
  {
   "cell_type": "code",
   "execution_count": null,
   "metadata": {},
   "outputs": [],
   "source": [
    "import json\n",
    "\n",
    "import pandas as pd\n",
    "import matplotlib.pyplot as plt\n",
    "\n",
    "from pathlib import Path\n",
    "\n",
    "COLOR = 'white'\n",
    "plt.rcParams['text.color'       ] = COLOR\n",
    "plt.rcParams['text.color'       ] = COLOR\n",
    "plt.rcParams['axes.labelcolor'  ] = COLOR\n",
    "plt.rcParams['xtick.color'      ] = COLOR\n",
    "plt.rcParams['ytick.color'      ] = COLOR"
   ]
  },
  {
   "cell_type": "markdown",
   "metadata": {},
   "source": [
    "## UC IPM data - December 2021 Scrape"
   ]
  },
  {
   "cell_type": "code",
   "execution_count": null,
   "metadata": {},
   "outputs": [],
   "source": [
    "_PATH = Path('../data/uc-ipm/scrape_cleaned_Dec2021/')\n",
    "DATA_FILE_NAMES = sorted(_PATH.iterdir())\n",
    "[data_file.name for data_file in DATA_FILE_NAMES]"
   ]
  },
  {
   "cell_type": "markdown",
   "metadata": {},
   "source": [
    "The list of files should be as following:\n",
    "```python\n",
    "['exoticPests.json',\n",
    " 'fruitItems_new.json',\n",
    " 'fruitVeggieEnvironItems_new.json',\n",
    " 'pestDiseaseItems_new.json',\n",
    " 'plantFlowerItems.json',\n",
    " 'turfPests.json',\n",
    " 'veggieItems_new.json',\n",
    " 'weedItems.json']\n",
    "```\n",
    "\n",
    "The corresponding EDA for these sources (links):\n",
    "* [`exoticPests.json`](#exoticpestsjson)\n",
    "* [`fruitItems_new.json`](#fruititems_newjson)\n",
    "* [`fruitVeggieEnvironItems_new.json`](#fruitveggieenvironitems_newjson)\n",
    "* [`pestDiseaseItems_new.json`](#pestdiseaseitems_newjson)\n",
    "* [`plantFlowerItems.json`](#plantfloweritemsjson)\n",
    "* [`turfPests.json`](#turfpestsjson)\n",
    "* [`veggieItems_new.json`](#veggieitems_newjson)\n",
    "* [`weedItems.json`](#weeditemsjson)"
   ]
  },
  {
   "cell_type": "markdown",
   "metadata": {},
   "source": [
    "### Pests - exotic types\n",
    "<a id='exoticpestsjson'></a>"
   ]
  },
  {
   "cell_type": "code",
   "execution_count": null,
   "metadata": {},
   "outputs": [],
   "source": [
    "FILE_NAME = 'exoticPests.json'\n",
    "df = pd.read_json(Path.joinpath(_PATH, FILE_NAME))\n",
    "df.info()"
   ]
  },
  {
   "cell_type": "code",
   "execution_count": null,
   "metadata": {},
   "outputs": [],
   "source": [
    "print('Field with less than 50% non-null entries:')\n",
    "for c in df.columns:\n",
    "    if df[df[c].str.len() > 0].shape[0] / df[c].shape[0] < 0.5:\n",
    "        print(f'{c:<20} - {(df[df[c].str.len() > 0].shape[0] / df[c].shape[0]) * 100:.0f}%')"
   ]
  },
  {
   "cell_type": "code",
   "execution_count": null,
   "metadata": {},
   "outputs": [],
   "source": [
    "df.sample(5)"
   ]
  },
  {
   "cell_type": "code",
   "execution_count": null,
   "metadata": {},
   "outputs": [],
   "source": [
    "text_columns = ['name', 'description', 'damage', 'identification', 'life_cycle', 'monitoring', 'management']\n",
    "fig, axes = plt.subplots(3, 3, figsize = (30, 15))\n",
    "for i, col in enumerate(text_columns):\n",
    "    r = i//3\n",
    "    c = i%3\n",
    "    df[col].apply(len).hist(figure = fig, bins = 20, ax = axes[r][c])\n",
    "    axes[r][c].set_title(col, fontdict = {'fontsize': 20})\n",
    "plt.show()"
   ]
  },
  {
   "cell_type": "markdown",
   "metadata": {},
   "source": [
    "__Exotic pests - `exoticPests.json`__\n",
    "\n",
    "| column         | type                     |\n",
    "|----------------|--------------------------|\n",
    "| name           | string                   |\n",
    "| url            | string                   |\n",
    "| description    | string                   |\n",
    "| damage         | string                   |\n",
    "| identification | string                   |\n",
    "| life_cycle     | string                   |\n",
    "| monitoring     | string                   |\n",
    "| management     | string                   |\n",
    "| related_links  | [{text: \" \", link: \" \"}] |\n",
    "\n",
    "Example of the single JSON data entry:\n",
    "```json\n",
    "{\n",
    "    \"name\": \"European Grapevine Moth\",\n",
    "    \"url\": \"https://www2.ipm.ucanr.edu/Invasive-and-Exotic-Pests/European-grapevine-moth/?src=exchbt\",\n",
    "    \"description\": \"Lobesia botrana, the European grapevine moth, was first reported in the United ...\",\n",
    "    \"damage\": \"In May and June, first-generation larvae web and feed on the flower clusters. Secon...\",\n",
    "    \"identification\": \"The adult moth is approximately 0.24 to 0.3 inch (6-8 mm) long, with a wing...\",\n",
    "    \"life_cycle\": \"European grapevine moth has two generations in its life cycle in northern Europ...\",\n",
    "    \"monitoring\": \"Sex pheromone attracts males and is used to monitor male flights. Before bud br...\",\n",
    "    \"management\": \"In countries where L. botrana is established, control measures are targeted at ...\",\n",
    "    \"related_links\": [\n",
    "        {\n",
    "        \"text\": \"Grape pest management guidelines\",\n",
    "        \"link\": \"http://ipm.ucanr.edu/PMG/selectnewpest.grapes.html?src=exchbt\"\n",
    "        },\n",
    "        {\n",
    "        \"text\": \"Video presentation\",\n",
    "        \"link\": \"http://stream.ucanr.org/ipm_ag_urban/evgm2011/?src=exchbt\"\n",
    "        }\n",
    "    ],\n",
    "    \"images\": [\n",
    "        {\n",
    "        \"link\": \"http://ipm.ucanr.edu/PMG/L/I-LP-LBOT-AD.002.html?src=exchbt\",\n",
    "        \"src\": \"http://ipm.ucanr.edu/PMG/IMAGES/L/I-LP-LBOT-AD.002h.jpg?src=exchbt\",\n",
    "        \"caption\": \"Adult female European grapevine moth.\"\n",
    "        },\n",
    "        {\n",
    "        \"link\": \"http://ipm.ucanr.edu/PMG/L/I-LP-LBOT-CD.004.html?src=exchbt\",\n",
    "        \"src\": \"http://ipm.ucanr.edu/PMG/IMAGES/L/I-LP-LBOT-CD.004h.jpg?src=exchbt\",\n",
    "        \"caption\": \"Grape bunches with webbing, frass, and fungal infections.\"\n",
    "        },\n",
    "        ...\n",
    "    ]\n",
    "}\n",
    "```\n",
    "\n",
    "__Metadata on data source__\n",
    "\n",
    "Information on exotic pests.\n",
    "\n",
    "Notes:\n",
    "* `description`, `damage`, `identification`, `life_cycle`, `monitoring`, `management` - main fields.\n",
    "* `related_links/text`, `images/caption` - additional fields.\n",
    "    \n",
    "Out of 15-20 source, only 2 have description field filled."
   ]
  },
  {
   "cell_type": "markdown",
   "metadata": {},
   "source": [
    "### Information - fruits\n",
    "<a id='fruititems_newjson'></a>"
   ]
  },
  {
   "cell_type": "code",
   "execution_count": null,
   "metadata": {},
   "outputs": [],
   "source": [
    "FILE_NAME = 'fruitItems_new.json'\n",
    "df = pd.read_json(Path.joinpath(_PATH, FILE_NAME))\n",
    "df.info()"
   ]
  },
  {
   "cell_type": "code",
   "execution_count": null,
   "metadata": {},
   "outputs": [],
   "source": [
    "print('Field with less than 50% non-null entries:')\n",
    "for c in df.columns:\n",
    "    if df[df[c].str.len() > 0].shape[0] / df[c].shape[0] < 0.5:\n",
    "        print(f'{c:<20} - {(df[df[c].str.len() > 0].shape[0] / df[c].shape[0]) * 100:.0f}%')"
   ]
  },
  {
   "cell_type": "code",
   "execution_count": null,
   "metadata": {},
   "outputs": [],
   "source": [
    "df.sample(5)"
   ]
  },
  {
   "cell_type": "markdown",
   "metadata": {},
   "source": [
    "__Fruits - `fruitItems_new.json`__\n",
    "\n",
    "| column              | type                      |\n",
    "|---------------------|---------------------------|\n",
    "| name                | string                    |\n",
    "| url                 | string                    |\n",
    "| cultural_tips       | [{tip: \"\", link: \"\"}]     |\n",
    "| pests_and_disorders | [{problem: \"\", link: \"\"}] |\n",
    "\n",
    "Example of the single JSON data entry:\n",
    "```json\n",
    "{\n",
    "    \"name\": \"Figs\",\n",
    "    \"url\": \"http://ipm.ucanr.edu/PMG/GARDEN/FRUIT/figs.html?src=exchbt\",\n",
    "    \"cultural_tips\": [\n",
    "        {\n",
    "            \"tip\": \"Fertilizing\",\n",
    "            \"link\": \"http://ipm.ucanr.edu/PMG/GARDEN/FRUIT/CULTURAL/fgfertilizing.html?src=exchbt\"\n",
    "        },\n",
    "        {\n",
    "            \"tip\": \"First-year pruning\",\n",
    "            \"link\": \"http://ipm.ucanr.edu/PMG/GARDEN/FRUIT/CULTURAL/almondfirst.html?src=exchbt\"\n",
    "        },\n",
    "        ...\n",
    "    ],\n",
    "    \"pests_and_disorders\": [\n",
    "        {\n",
    "            \"problem\": \"Ants\",\n",
    "            \"link\": \"http://ipm.ucanr.edu/PMG/PESTNOTES/pn7411.html?src=exchbt\"\n",
    "        },\n",
    "        {\n",
    "            \"problem\": \"Carpenterworm\",\n",
    "            \"link\": \"http://ipm.ucanr.edu/PMG/PESTNOTES/pn74105.html?src=exchbt\"\n",
    "        },\n",
    "        ...\n",
    "    ]\n",
    "}\n",
    "```\n",
    "__Metadata on data source__\n",
    "\n",
    "Information on fruits. Name with cultural tips and problems can be used to search for the queries. Following slots can be used - `plant_name`, `problem`.\n",
    "\n",
    "Notes:\n",
    "* Concatenate `name` and `cultural_tips/tip` - additional field.\n",
    "* Concatenate `name` and `pests_and_disorders/problem` - additional field."
   ]
  },
  {
   "cell_type": "markdown",
   "metadata": {},
   "source": [
    "### Environmental damages - fruits and veggies\n",
    "<a id='fruitveggieenvironitems_newjson'></a>"
   ]
  },
  {
   "cell_type": "code",
   "execution_count": null,
   "metadata": {},
   "outputs": [],
   "source": [
    "FILE_NAME = 'fruitVeggieEnvironItems_new.json'\n",
    "df = pd.read_json(Path.joinpath(_PATH, FILE_NAME))\n",
    "df.info()"
   ]
  },
  {
   "cell_type": "code",
   "execution_count": null,
   "metadata": {},
   "outputs": [],
   "source": [
    "print('Field with less than 50% non-null entries:')\n",
    "for c in df.columns:\n",
    "    if df[df[c].str.len() > 0].shape[0] / df[c].shape[0] < 0.5:\n",
    "        print(f'{c:<20} - {(df[df[c].str.len() > 0].shape[0] / df[c].shape[0]) * 100:.0f}%')"
   ]
  },
  {
   "cell_type": "code",
   "execution_count": null,
   "metadata": {},
   "outputs": [],
   "source": [
    "df.sample(5)"
   ]
  },
  {
   "cell_type": "code",
   "execution_count": null,
   "metadata": {},
   "outputs": [],
   "source": [
    "text_columns = ['name', 'description', 'identification', 'damage', 'disorder_development', 'solutions']\n",
    "fig, axes = plt.subplots(2, 3, figsize = (30, 10))\n",
    "for i, col in enumerate(text_columns):\n",
    "    r = i//3\n",
    "    c = i%3\n",
    "    df[col].apply(len).hist(figure = fig, bins = 20, ax = axes[r][c])\n",
    "    axes[r][c].set_title(col, fontdict = {'fontsize': 20})\n",
    "plt.show()"
   ]
  },
  {
   "cell_type": "markdown",
   "metadata": {},
   "source": [
    "__Environment Fruit and Veggie - `fruitVeggieEnvironItems_new.json`__\n",
    "\n",
    "| column               | type                                  |\n",
    "|----------------------|---------------------------------------|\n",
    "| name                 | string                                |\n",
    "| url                  | string                                |\n",
    "| description          | string                                |\n",
    "| identification       | string                                |\n",
    "| damage               | string                                |\n",
    "| disorder_development | string                                |\n",
    "| solutions            | string                                |\n",
    "| images               | [{link: \" \", src: \" \", caption: \" \"}] |\n",
    "\n",
    "Example of the single JSON data entry:\n",
    "```json\n",
    "{\n",
    "    \"name\": \"Wind\",\n",
    "    \"url\": \"http://ipm.ucanr.edu/PMG/GARDEN/ENVIRON/wind.html?src=exchbt\",\n",
    "    \"description\": \"Wind can damage bark, flowers, foliage, fruit, and limbs of most any...\",\n",
    "    \"identification\": \"Plants growing at windy sites often have smaller-than-normal leaves...\",\n",
    "    \"damage\": \"Wind-damaged leaves become necrotic along the margins and tips and drop prema...\",\n",
    "    \"disorder_development\": \"Wind commonly causes water deficit. If soil moisture is low, or w...\",\n",
    "    \"solutions\": \"Provide plants with proper cultural care, especially appropriate irrigation...\",\n",
    "    \"images\": [\n",
    "        {\n",
    "            \"link\": \"http://ipm.ucanr.edu/PMG/W/A-WO-WEAT-FS.002.html?src=exchbt\",\n",
    "            \"src\": \"http://ipm.ucanr.edu/PMG/IMAGES/W/A-WO-WEAT-FS.002a.jpg?src=exchbt\",\n",
    "            \"caption\": \"Wind-sculptured cypress\"\n",
    "        },\n",
    "        {\n",
    "            \"link\": \"http://ipm.ucanr.edu/PMG/W/A-WO-WEAT-FO.041.html?src=exchbt\",\n",
    "            \"src\": \"http://ipm.ucanr.edu/PMG/IMAGES/W/A-WO-WEAT-FO.041a.jpg?src=exchbt\",\n",
    "            \"caption\": \"Necrotic, wind-tattered leaves\"\n",
    "        },\n",
    "        ...\n",
    "    ]\n",
    "}\n",
    "```\n",
    "\n",
    "__Metadata on data source__\n",
    "\n",
    "Environment caused problems on veggies and fruites. `problem_description` can be used to find matches.\n",
    "\n",
    "Notes:\n",
    "* `name`, `description`, `identification`, `damage`, `disorder_development`, `solutions` - main fields\n",
    "* `images/caption` - additional fields"
   ]
  },
  {
   "cell_type": "markdown",
   "metadata": {},
   "source": [
    "### Pests - causing diseases\n",
    "<a id='pestdiseaseitems_newjson'></a>"
   ]
  },
  {
   "cell_type": "code",
   "execution_count": null,
   "metadata": {},
   "outputs": [],
   "source": [
    "FILE_NAME = 'pestDiseaseItems_new.json'\n",
    "df = pd.read_json(Path.joinpath(_PATH, FILE_NAME))\n",
    "df.info()"
   ]
  },
  {
   "cell_type": "code",
   "execution_count": null,
   "metadata": {},
   "outputs": [],
   "source": [
    "print('Field with less than 50% non-null entries:')\n",
    "for c in df.columns:\n",
    "    if df[df[c].str.len() > 0].shape[0] / df[c].shape[0] < 0.5:\n",
    "        print(f'{c:<20} - {(df[df[c].str.len() > 0].shape[0] / df[c].shape[0]) * 100:.0f}%')"
   ]
  },
  {
   "cell_type": "code",
   "execution_count": null,
   "metadata": {},
   "outputs": [],
   "source": [
    "df.sample(5)"
   ]
  },
  {
   "cell_type": "code",
   "execution_count": null,
   "metadata": {},
   "outputs": [],
   "source": [
    "text_columns = ['name', 'description', 'identification', 'life_cycle', 'damage', 'solutions']\n",
    "fig, axes = plt.subplots(2, 3, figsize = (30, 10))\n",
    "for i, col in enumerate(text_columns):\n",
    "    r = i//3\n",
    "    c = i%3\n",
    "    df[col].apply(len).hist(figure = fig, bins = 20, ax = axes[r][c])\n",
    "    axes[r][c].set_title(col, fontdict = {'fontsize': 20})\n",
    "plt.show()"
   ]
  },
  {
   "cell_type": "markdown",
   "metadata": {},
   "source": [
    "__Pest Diseases - `pestDiseasesItems_new.json`__\n",
    "\n",
    "| column         | type                                  |\n",
    "|----------------|---------------------------------------|\n",
    "| name           | string                                |\n",
    "| url            | string                                |\n",
    "| description    | string                                |\n",
    "| identification | string                                |\n",
    "| life_cycle     | string                                |\n",
    "| damage         | string                                |\n",
    "| solutions      | string                                |\n",
    "| images         | [{link: \" \", src: \" \", caption: \" \"}] |\n",
    "\n",
    "\n",
    "Example of the single JSON data entry:\n",
    "\n",
    "```json\n",
    "{\n",
    "    \"name\": \"Stink bugs\",\n",
    "    \"url\": \"http://ipm.ucanr.edu/PMG/GARDEN/VEGES/PESTS/stinkbug.html?src=exchbt\",\n",
    "    \"description\": \"These sucking insects (family Pentatomidae) are shield shaped. Their common ...\",\n",
    "    \"identification\": \"Adult stink bugs are distinguished from other insects by the large ...\",\n",
    "    \"life_cycle\": \"Stink bugs develop through three life stages: egg, nymph, and adult. ...\",\n",
    "    \"damage\": \"Adults suck and feed on plants with their strawlike mouthparts. Stink bugs ...\",\n",
    "    \"solutions\": \"Handpick the bugs and their eggs from small plants. Eliminate groundcovers...\",\n",
    "    \"images\": [\n",
    "        {\n",
    "            \"link\": \"http://ipm.ucanr.edu/PMG/E/I-HM-ECON-AD.015.html?src=exchbt\",\n",
    "            \"src\": \"http://ipm.ucanr.edu/PMG/IMAGES/E/I-HM-ECON-AD.015a.jpg?src=exchbt\",\n",
    "            \"caption\": \"Adults of southern green stink bug (left), redshouldered stink bug, (upper right) and consperse stink bug.\"\n",
    "        },\n",
    "        {\n",
    "            \"link\": \"http://ipm.ucanr.edu/PMG/E/I-HM-ECON-EG.001.html?src=exchbt\",\n",
    "            \"src\": \"http://ipm.ucanr.edu/PMG/IMAGES/E/I-HM-ECON-EG.001b.jpg?src=exchbt\",\n",
    "            \"caption\": \"First instars of consperse stink bug and their empty egg cases.\"\n",
    "        },\n",
    "        ...\n",
    "    ]\n",
    "},\n",
    "```\n",
    "\n",
    "__Metadata on data source__\n",
    "\n",
    "Information on pests."
   ]
  },
  {
   "cell_type": "markdown",
   "metadata": {},
   "source": [
    "### Information - flowers\n",
    "<a id='plantfloweritemsjson'></a>"
   ]
  },
  {
   "cell_type": "code",
   "execution_count": null,
   "metadata": {},
   "outputs": [],
   "source": [
    "FILE_NAME = 'plantFlowerItems.json'\n",
    "df = pd.read_json(Path.joinpath(_PATH, FILE_NAME))\n",
    "df.info()"
   ]
  },
  {
   "cell_type": "code",
   "execution_count": null,
   "metadata": {},
   "outputs": [],
   "source": [
    "print('Field with less than 50% non-null entries:')\n",
    "for c in df.columns:\n",
    "    if df[df[c].str.len() > 0].shape[0] / df[c].shape[0] < 0.5:\n",
    "        print(f'{c:<20} - {(df[df[c].str.len() > 0].shape[0] / df[c].shape[0]) * 100:.0f}%')"
   ]
  },
  {
   "cell_type": "code",
   "execution_count": null,
   "metadata": {},
   "outputs": [],
   "source": [
    "df.sample(5)"
   ]
  },
  {
   "cell_type": "code",
   "execution_count": null,
   "metadata": {},
   "outputs": [],
   "source": [
    "text_columns = ['name', 'identification', 'optimum_conditions']\n",
    "fig, axes = plt.subplots(1, 3, figsize = (30, 5))\n",
    "for i, col in enumerate(text_columns):\n",
    "    c = i%3\n",
    "    df[col].apply(len).hist(figure = fig, bins = 20, ax = axes[c])\n",
    "    axes[c].set_title(col, fontdict = {'fontsize': 20})\n",
    "plt.show()"
   ]
  },
  {
   "cell_type": "markdown",
   "metadata": {},
   "source": [
    "__Flowers - `plantFlowerItems.json`__\n",
    "\n",
    "| column              | type                        |\n",
    "|---------------------|-----------------------------|\n",
    "| name                | string                      |\n",
    "| url                 | string                      |\n",
    "| identification      | string                      |\n",
    "| optimum_conditions  | string                      |\n",
    "| pests_and_disorders | [{problem: \" \", link: \" \"}] |\n",
    "\n",
    "Example of the single JSON data entry:\n",
    "```json\n",
    "{\n",
    "    \"name\": \"Abelia\",\n",
    "    \"url\": \"http://ipm.ucanr.edu/PMG/GARDEN/PLANTS/abelia.html?src=exchbt\",\n",
    "    \"identification\": \"Abelias are evergreen or semievergreen deciduous shrubs. Leaves are ...\",\n",
    "    \"optimum_conditions\": \"Abelias can be planted as borders or barriers. Varieties that ...\",\n",
    "    \"pests_and_disorders\": [\n",
    "        {\n",
    "            \"problem\": \"Root knot nematodes\",\n",
    "            \"link\": \"http://ipm.ucanr.edu/PMG/PESTNOTES/pn7489.html?src=exchbt\"\n",
    "        },\n",
    "        {\n",
    "            \"problem\": \"Mineral deficiencies\",\n",
    "            \"link\": \"http://ipm.ucanr.edu/PMG/GARDEN/ENVIRON/mineraldef.html?src=exchbt\"\n",
    "        },\n",
    "        ...\n",
    "    ],\n",
    "    \"images\": [\n",
    "        {\n",
    "            \"link\": \"http://ipm.ucanr.edu/PMG/C/S-WO-CAPR-FL.017.html?src=exchbt\",\n",
    "            \"src\": \"http://ipm.ucanr.edu/PMG/IMAGES/C/S-WO-CAPR-FL.017a.jpg?src=exchbt\",\n",
    "            \"caption\": \"Abelia flowers\"\n",
    "        },\n",
    "        {\n",
    "            \"link\": \"http://ipm.ucanr.edu/PMG/C/S-WO-CAPR-FO.011.html?src=exchbt\",\n",
    "            \"src\": \"http://ipm.ucanr.edu/PMG/IMAGES/C/S-WO-CAPR-FO.011a.jpg?src=exchbt\",\n",
    "            \"caption\": \"LEaves of Abelia\"\n",
    "        }\n",
    "    ]\n",
    "}\n",
    "```\n",
    "__Metadata on data source__\n",
    "\n",
    "Description of the flowers.\n",
    "\n",
    "* `name` and `pest_and_disorders` - main fields\n",
    "* `images/caption` - additional fields\n"
   ]
  },
  {
   "cell_type": "markdown",
   "metadata": {},
   "source": [
    "### Pests - turf (grass)\n",
    "<a id='plantfloweritemsjson'></a>"
   ]
  },
  {
   "cell_type": "code",
   "execution_count": null,
   "metadata": {},
   "outputs": [],
   "source": [
    "FILE_NAME = 'turfPests.json'\n",
    "df = pd.read_json(Path.joinpath(_PATH, FILE_NAME))\n",
    "df.info()"
   ]
  },
  {
   "cell_type": "code",
   "execution_count": null,
   "metadata": {},
   "outputs": [],
   "source": [
    "print('Field with less than 50% non-null entries:')\n",
    "for c in df.columns:\n",
    "    if df[df[c].str.len() > 0].shape[0] / df[c].shape[0] < 0.5:\n",
    "        print(f'{c:<20} - {(df[df[c].str.len() > 0].shape[0] / df[c].shape[0]) * 100:.0f}%')"
   ]
  },
  {
   "cell_type": "code",
   "execution_count": null,
   "metadata": {},
   "outputs": [],
   "source": [
    "df.sample(5)"
   ]
  },
  {
   "cell_type": "code",
   "execution_count": null,
   "metadata": {},
   "outputs": [],
   "source": [
    "text_columns = ['name', 'text']\n",
    "fig, axes = plt.subplots(1, 2, figsize = (30, 5))\n",
    "for i, col in enumerate(text_columns):\n",
    "    c = i%2\n",
    "    df[col].apply(len).hist(figure = fig, bins = 20, ax = axes[c])\n",
    "    axes[c].set_title(col, fontdict = {'fontsize': 20})\n",
    "plt.show()"
   ]
  },
  {
   "cell_type": "markdown",
   "metadata": {},
   "source": [
    "__Turf Pests - `turfPests.json`__\n",
    "\n",
    "| column | type                                  |\n",
    "|--------|---------------------------------------|\n",
    "| name   | string                                |\n",
    "| url    | string                                |\n",
    "| text   | string                                |\n",
    "| images | [{link: \" \", src: \" \", caption: \" \"}] |\n",
    "\n",
    "Example of the single JSON data entry:\n",
    "\n",
    "```json\n",
    "{\n",
    "    \"name\": \"Fiery skipper\",\n",
    "    \"url\": \"http://ipm.ucanr.edu/TOOLS/TURF/PESTS/inskipper.html?src=exchbt\",\n",
    "    \"text\": \"Identification Fiery skipper adults resemble butterflies and are 1 inch...\",\n",
    "    \"images\": [\n",
    "        {\n",
    "            \"link\": \"http://ipm.ucanr.edu/PMG/H/I-LP-HPHY-AD.003.html?src=exchbt\",\n",
    "            \"src\": \"http://ipm.ucanr.edu/TOOLS/TURF/IMAGES/PESTMANIM/infieryad.jpg?src=exchbt\",\n",
    "            \"caption\": \"Fiery skipper adult\"\n",
    "        },\n",
    "        {\n",
    "            \"link\": \"http://ipm.ucanr.edu/PMG/H/I-LP-HPHY-LV.009.html?src=exchbt\",\n",
    "            \"src\": \"http://ipm.ucanr.edu/TOOLS/TURF/IMAGES/PESTMANIM/inskiplv.jpg?src=exchbt\",\n",
    "            \"caption\": \"Skipper larva with dark head and thoracic shield\"\n",
    "        },\n",
    "        ...\n",
    "    ]\n",
    "},\n",
    "```\n",
    "__Metadata on data source__\n",
    "\n",
    "Inoformation on turf pests (grass)."
   ]
  },
  {
   "cell_type": "markdown",
   "metadata": {},
   "source": [
    "### Information - veggies\n",
    "<a id='veggieitems_newjson'></a>"
   ]
  },
  {
   "cell_type": "code",
   "execution_count": null,
   "metadata": {},
   "outputs": [],
   "source": [
    "FILE_NAME = 'veggieItems_new.json'\n",
    "df = pd.read_json(Path.joinpath(_PATH, FILE_NAME))\n",
    "df.info()"
   ]
  },
  {
   "cell_type": "code",
   "execution_count": null,
   "metadata": {},
   "outputs": [],
   "source": [
    "print('Field with less than 50% non-null entries:')\n",
    "for c in df.columns:\n",
    "    if df[df[c].str.len() > 0].shape[0] / df[c].shape[0] < 0.5:\n",
    "        print(f'{c:<20} - {(df[df[c].str.len() > 0].shape[0] / df[c].shape[0]) * 100:.0f}%')"
   ]
  },
  {
   "cell_type": "code",
   "execution_count": null,
   "metadata": {},
   "outputs": [],
   "source": [
    "df.sample(5)"
   ]
  },
  {
   "cell_type": "code",
   "execution_count": null,
   "metadata": {},
   "outputs": [],
   "source": [
    "text_columns = ['name', 'description', 'tips']\n",
    "fig, axes = plt.subplots(1, 3, figsize = (30, 5))\n",
    "for i, col in enumerate(text_columns):\n",
    "    c = i%3\n",
    "    df[col].apply(len).hist(figure = fig, bins = 20, ax = axes[c])\n",
    "    axes[c].set_title(col, fontdict = {'fontsize': 20})\n",
    "plt.show()"
   ]
  },
  {
   "cell_type": "markdown",
   "metadata": {},
   "source": [
    "__Veggie - `veggieItems_new.json`__\n",
    "\n",
    "| column              | type                                  |\n",
    "|---------------------|---------------------------------------|\n",
    "| name                | string                                |\n",
    "| url                 | string                                |\n",
    "| description         | string                                |\n",
    "| tips                | string                                |\n",
    "| images              | [{link: \" \", src: \" \", caption: \" \"}] |\n",
    "| pests_and_disorders | [{problem: \"\", link: \"\"}]             |\n",
    "\n",
    "Example of the single JSON data entry:\n",
    "```json\n",
    "{\n",
    "    \"name\": \"Carrot \",\n",
    "    \"url\": \"http://ipm.ucanr.edu/home-and-landscape/carrot/index.html?src=exchbt\",\n",
    "    \"description\": \"Carrots can be grown nearly year-round throughout California. A number of vari...\",\n",
    "    \"tips\": \"Cultural practices such as proper site selection, soil preparation, planting, and wat...\",\n",
    "    \"images\": [\n",
    "        {\n",
    "            \"link\": \"http://ipm.ucanr.edu/PMG/P/D-CA-PVIO-RO.002.html?src=exchbt\",\n",
    "            \"src\": \"http://ipm.ucanr.edu/PMG/IMAGES/P/D-CA-PVIO-RO.002.jpg?src=exchbt\",\n",
    "            \"caption\": \"Cavity spot-induced, irregularly shaped lesions across mature carrot tap roots.\"\n",
    "        },\n",
    "        ...\n",
    "    ],\n",
    "    \"pests_and_disorders\": [\n",
    "        {\n",
    "            \"problem\": \"Aphids\",\n",
    "            \"link\": \"http://ipm.ucanr.edu/PMG/PESTNOTES/pn7404.html?src=exchbt\"\n",
    "        },\n",
    "        {\n",
    "            \"problem\": \"Carrot rust fly\",\n",
    "            \"link\": \"http://ipm.ucanr.edu/PMG/GARDEN/VEGES/PESTS/carrotrustfly.html?src=exchbt\"\n",
    "        },\n",
    "        ...\n",
    "    ]\n",
    "}\n",
    "```\n",
    "\n",
    "__Metadata on data source__\n",
    "\n",
    "Information on vegetables. `plant_name`, and `problem` can be used to search this data source.\n",
    "\n",
    "Notes:\n",
    "* `name`, `description`, `tips` - main fields.\n",
    "* `images/caption` additional field.\n",
    "* concatenate `name` + `pests_and_disorders` -  additional field.\n"
   ]
  },
  {
   "cell_type": "markdown",
   "metadata": {},
   "source": [
    "### Environmental damages - weeds\n",
    "<a id='weeditemsjson'></a>"
   ]
  },
  {
   "cell_type": "code",
   "execution_count": null,
   "metadata": {},
   "outputs": [],
   "source": [
    "FILE_NAME = 'weedItems.json'\n",
    "df = pd.read_json(Path.joinpath(_PATH, FILE_NAME))\n",
    "df.info()"
   ]
  },
  {
   "cell_type": "code",
   "execution_count": null,
   "metadata": {},
   "outputs": [],
   "source": [
    "print('Field with less than 50% non-null entries:')\n",
    "for c in df.columns:\n",
    "    if df[df[c].str.len() > 0].shape[0] / df[c].shape[0] < 0.5:\n",
    "        print(f'{c:<20} - {(df[df[c].str.len() > 0].shape[0] / df[c].shape[0]) * 100:.0f}%')"
   ]
  },
  {
   "cell_type": "code",
   "execution_count": null,
   "metadata": {},
   "outputs": [],
   "source": [
    "df.sample(5)"
   ]
  },
  {
   "cell_type": "code",
   "execution_count": null,
   "metadata": {},
   "outputs": [],
   "source": [
    "text_columns = ['name', 'description']\n",
    "fig, axes = plt.subplots(1, 2, figsize = (30, 5))\n",
    "for i, col in enumerate(text_columns):\n",
    "    c = i%2\n",
    "    df[col].apply(len).hist(figure = fig, bins = 20, ax = axes[c])\n",
    "    axes[c].set_title(col, fontdict = {'fontsize': 20})\n",
    "plt.show()"
   ]
  },
  {
   "cell_type": "markdown",
   "metadata": {},
   "source": [
    "__Weed - `weedItems.json`__\n",
    "\n",
    "| column      | type                        |\n",
    "|-------------|-----------------------------|\n",
    "| name        | string                      |\n",
    "| url         | string                      |\n",
    "| description | string                      |\n",
    "| images      | [{link: \" \", caption: \" \"}] |\n",
    "\n",
    "Example of the single JSON data entry:\n",
    "```json\n",
    "{\n",
    "    \"name\": \"Gregg arrowhead\",\n",
    "    \"url\": \"http://ipm.ucanr.edu/PMG/WEEDS/gregg_arrowhead.html?src=exchbt\",\n",
    "    \"description\": \"Gregg arrowhead is a native aquatic perennial that occurs in the...\",\n",
    "    \"images\": [\n",
    "        {\n",
    "            \"link\": \"http://ipm.ucanr.edu/PMG/S/W-AL-SMON-MP.003.html?src=exchbt\",\n",
    "            \"caption\": \"top picture\"\n",
    "        },\n",
    "        {\n",
    "            \"link\": \"http://ipm.ucanr.edu/PMG/S/W-AL-SLON-SG.001.html?src=exchbt\",\n",
    "            \"caption\": \"bottom left picture\"\n",
    "        },\n",
    "        ...\n",
    "    ]\n",
    "}\n",
    "```\n",
    "\n",
    "__Metadata on data source__\n",
    "\n",
    "Description of the weed (problematic). Weed is any plant growing in cultivated ground to the injury of the crop or desired vegetation."
   ]
  },
  {
   "cell_type": "markdown",
   "metadata": {},
   "source": [
    "### Final transformations"
   ]
  },
  {
   "cell_type": "markdown",
   "metadata": {},
   "source": [
    "Data source will be mapped to following structure:\n",
    "```json\n",
    "{\n",
    "    # mandatory fields\n",
    "    \"url\"       : \"url\",                            # Main URL\n",
    "    \"source\"    : \"ucipm|aekb|okstate|orstate\",     # Source Dataset\n",
    "    \"title\"     : \"title\",                          # Title of data item\n",
    "    ...\n",
    "    # other fields\n",
    "    ...\n",
    "    \"vectors\"   : {\n",
    "        \"name\"  : \"field_name_and_index\",           # Name of the field\n",
    "        \"start\" : \"number\",                         # Start index within text\n",
    "        \"end\"   : \"number\",                         # End index within text\n",
    "        \"vector\": \"dense_vector\",                   # Embedding vector\n",
    "}\n",
    "```\n",
    "\n",
    "Title itself will be encoded as well into vector field."
   ]
  },
  {
   "cell_type": "markdown",
   "metadata": {},
   "source": [
    "There is going to be single merged index consisting of the following:\n",
    "\n",
    "__`exoticPests.json`__\n",
    "```json\n",
    "{\n",
    "    \"source\": \"ucipm\",\n",
    "    \"name\": \"European Grapevine Moth\",                                                                          # title field\n",
    "    \"url\": \"https://www2.ipm.ucanr.edu/Invasive-and-Exotic-Pests/European-grapevine-moth/?src=exchbt\",          # url field\n",
    "    \"description\": \"Lobesia botrana, the European grapevine moth, was first reported in the United...\",         # text field name - description\n",
    "    \"damage\": \"In May and June, first-generation larvae web and feed on the flower clusters. Secon...\",         # text field name - damage\n",
    "    \"identification\": \"The adult moth is approximately 0.24 to 0.3 inch (6-8 mm) long, with a wing...\",         # text field name - identification\n",
    "    \"life_cycle\": \"European grapevine moth has two generations in its life cycle in northern Europ...\",         # text field name - life_cycle\n",
    "    \"monitoring\": \"Sex pheromone attracts males and is used to monitor male flights. Before bud br...\",         # text field name - monitoring\n",
    "    \"management\": \"In countries where L. botrana is established, control measures are targeted at ...\",         # text field name - management\n",
    "    \"related_links\": [                                                                                          # text field name - related_links.title, vector - title + related_links.title\n",
    "        {\n",
    "        \"text\": \"Grape pest management guidelines\",                                                             # rename to title\n",
    "        \"link\": \"http://ipm.ucanr.edu/PMG/selectnewpest.grapes.html?src=exchbt\"\n",
    "        },\n",
    "        {\n",
    "        \"text\": \"Video presentation\",\n",
    "        \"link\": \"http://stream.ucanr.org/ipm_ag_urban/evgm2011/?src=exchbt\"\n",
    "        },\n",
    "        ...\n",
    "        ],\n",
    "    \"images\": [                                                                                                 # text field name - images.title, vector - title + images.title\n",
    "        {\n",
    "        \"link\": \"http://ipm.ucanr.edu/PMG/L/I-LP-LBOT-AD.002.html?src=exchbt\",\n",
    "        \"src\": \"http://ipm.ucanr.edu/PMG/IMAGES/L/I-LP-LBOT-AD.002h.jpg?src=exchbt\",\n",
    "        \"caption\": \"Adult female European grapevine moth.\"                                                      # rename to title\n",
    "        },\n",
    "        {\n",
    "        \"link\": \"http://ipm.ucanr.edu/PMG/L/I-LP-LBOT-CD.004.html?src=exchbt\",\n",
    "        \"src\": \"http://ipm.ucanr.edu/PMG/IMAGES/L/I-LP-LBOT-CD.004h.jpg?src=exchbt\",\n",
    "        \"caption\": \"Grape bunches with webbing, frass, and fungal infections.\"\n",
    "        },\n",
    "        ...\n",
    "    ]\n",
    "}\n",
    "```\n",
    "\n",
    "__`fruitItems_new.json`__\n",
    "```json\n",
    "{\n",
    "    \"source\": \"ucipm\",\n",
    "    \"name\": \"Figs\",                                                                                             # title field - title\n",
    "    \"url\": \"http://ipm.ucanr.edu/PMG/GARDEN/FRUIT/figs.html?src=exchbt\",                                        # url field - url\n",
    "    \"cultural_tips\": [                                                                                          # text field name - cultural_tips.title, vector - title + cultural_tips.title\n",
    "        {\n",
    "            \"tip\": \"Fertilizing\",                                                                               # rename to title\n",
    "            \"link\": \"http://ipm.ucanr.edu/PMG/GARDEN/FRUIT/CULTURAL/fgfertilizing.html?src=exchbt\"\n",
    "        },\n",
    "        {\n",
    "            \"tip\": \"First-year pruning\",\n",
    "            \"link\": \"http://ipm.ucanr.edu/PMG/GARDEN/FRUIT/CULTURAL/almondfirst.html?src=exchbt\"\n",
    "        },\n",
    "        ...\n",
    "    ],\n",
    "    \"pests_and_disorders\": [                                                                                    # text field name - pests_and_disorders.title, vector - title + pests_and_disorders.title\n",
    "        {\n",
    "            \"problem\": \"Ants\",                                                                                  # rename to title\n",
    "            \"link\": \"http://ipm.ucanr.edu/PMG/PESTNOTES/pn7411.html?src=exchbt\"\n",
    "        },\n",
    "        {\n",
    "            \"problem\": \"Carpenterworm\",\n",
    "            \"link\": \"http://ipm.ucanr.edu/PMG/PESTNOTES/pn74105.html?src=exchbt\"\n",
    "        },\n",
    "        ...\n",
    "    ]\n",
    "}\n",
    "```\n",
    "\n",
    "__`fruitVeggieEnvironItems_new.json`__\n",
    "```json\n",
    "{\n",
    "    \"source\": \"ucipm\",\n",
    "    \"name\": \"Wind\",                                                                                             # title field\n",
    "    \"url\": \"http://ipm.ucanr.edu/PMG/GARDEN/ENVIRON/wind.html?src=exchbt\",                                      # url field\n",
    "    \"description\": \"Wind can damage bark, flowers, foliage, fruit, and limbs of most any...\",                   # text field name - description\n",
    "    \"identification\": \"Plants growing at windy sites often have smaller-than-normal leav...\",                   # text field name - identification\n",
    "    \"damage\": \"Wind-damaged leaves become necrotic along the margins and tips and drop p...\",                   # text field name - damage\n",
    "    \"disorder_development\": \"Wind commonly causes water deficit. If soil moisture is low...\",                   # text field name - disorder_development\n",
    "    \"solutions\": \"Provide plants with proper cultural care, especially appropriate irrig...\",                   # text field name - solutions\n",
    "    \"images\": [                                                                                                 # text field name - images.title, vector - title + images.title\n",
    "        {\n",
    "            \"link\": \"http://ipm.ucanr.edu/PMG/W/A-WO-WEAT-FS.002.html?src=exchbt\",                              # rename to title\n",
    "            \"src\": \"http://ipm.ucanr.edu/PMG/IMAGES/W/A-WO-WEAT-FS.002a.jpg?src=exchbt\",\n",
    "            \"caption\": \"Wind-sculptured cypress\"\n",
    "        },\n",
    "        {\n",
    "            \"link\": \"http://ipm.ucanr.edu/PMG/W/A-WO-WEAT-FO.041.html?src=exchbt\",\n",
    "            \"src\": \"http://ipm.ucanr.edu/PMG/IMAGES/W/A-WO-WEAT-FO.041a.jpg?src=exchbt\",\n",
    "            \"caption\": \"Necrotic, wind-tattered leaves\"\n",
    "        },\n",
    "        ...\n",
    "    ]\n",
    "},\n",
    "```\n",
    "\n",
    "__`pestDiseasesItems_new.json`__\n",
    "```json\n",
    "{\n",
    "    \"source\": \"ucipm\",\n",
    "    \"name\": \"Stink bugs\",                                                                                       # title field\n",
    "    \"url\": \"http://ipm.ucanr.edu/PMG/GARDEN/VEGES/PESTS/stinkbug.html?src=exchbt\",                              # url field\n",
    "    \"description\": \"These sucking insects (family Pentatomidae) are shield shaped. The...\",                     # text field name - description\n",
    "    \"identification\": \"Adult stink bugs are distinguished from other insects by the la...\",                     # text field name - identification\n",
    "    \"life_cycle\": \"Stink bugs develop through three life stages: egg, nymph, and adult...\",                     # text field name - life_cycle\n",
    "    \"damage\": \"Adults suck and feed on plants with their strawlike mouthparts. Stink b...\",                     # text field name - damage\n",
    "    \"solutions\": \"Handpick the bugs and their eggs from small plants. Eliminate ground...\",                     # text field name - solutions\n",
    "    \"images\": [                                                                                                 # text field name - images.title, vector - title + images.title\n",
    "        {\n",
    "            \"link\": \"http://ipm.ucanr.edu/PMG/E/I-HM-ECON-AD.015.html?src=exchbt\",                              # rename to title\n",
    "            \"src\": \"http://ipm.ucanr.edu/PMG/IMAGES/E/I-HM-ECON-AD.015a.jpg?src=exchbt\",\n",
    "            \"caption\": \"Adults of southern green stink bug (left), redshouldered stink...\"\n",
    "        },\n",
    "        {\n",
    "            \"link\": \"http://ipm.ucanr.edu/PMG/E/I-HM-ECON-EG.001.html?src=exchbt\",\n",
    "            \"src\": \"http://ipm.ucanr.edu/PMG/IMAGES/E/I-HM-ECON-EG.001b.jpg?src=exchbt\",\n",
    "            \"caption\": \"First instars of consperse stink bug and their empty egg cases.\"\n",
    "        },\n",
    "        ...\n",
    "    ]\n",
    "}\n",
    "```\n",
    "\n",
    "__`plantFlowerItems.json`__\n",
    "```json\n",
    "{\n",
    "    \"source\": \"ucipm\",\n",
    "    \"name\": \"Abelia\",                                                                                           # title field\n",
    "    \"url\": \"http://ipm.ucanr.edu/PMG/GARDEN/PLANTS/abelia.html?src=exchbt\",                                     # url field\n",
    "    \"identification\": \"Abelias are evergreen or semievergreen deciduous shrubs. Leaves are ...\",                # text field name - identification\n",
    "    \"optimum_conditions\": \"Abelias can be planted as borders or barriers. Varieties that ...\",                  # text field name - optimum_conditions\n",
    "    \"pests_and_disorders\": [                                                                                    # text field name - pests_and_disorders.title, vector - title + pests_and_disorders.title\n",
    "        {\n",
    "            \"problem\": \"Root knot nematodes\",                                                                   # rename to title\n",
    "            \"link\": \"http://ipm.ucanr.edu/PMG/PESTNOTES/pn7489.html?src=exchbt\"\n",
    "        },\n",
    "        {\n",
    "            \"problem\": \"Mineral deficiencies\",\n",
    "            \"link\": \"http://ipm.ucanr.edu/PMG/GARDEN/ENVIRON/mineraldef.html?src=exchbt\"\n",
    "        },\n",
    "        ...\n",
    "    ],\n",
    "    \"images\": [                                                                                                 # text field name - images.title, vector - title + images.title\n",
    "        {\n",
    "            \"link\": \"http://ipm.ucanr.edu/PMG/C/S-WO-CAPR-FL.017.html?src=exchbt\",\n",
    "            \"src\": \"http://ipm.ucanr.edu/PMG/IMAGES/C/S-WO-CAPR-FL.017a.jpg?src=exchbt\",\n",
    "            \"caption\": \"Abelia flowers\"                                                                         # rename to title\n",
    "        },\n",
    "        {\n",
    "            \"link\": \"http://ipm.ucanr.edu/PMG/C/S-WO-CAPR-FO.011.html?src=exchbt\",\n",
    "            \"src\": \"http://ipm.ucanr.edu/PMG/IMAGES/C/S-WO-CAPR-FO.011a.jpg?src=exchbt\",\n",
    "            \"caption\": \"LEaves of Abelia\"\n",
    "        }\n",
    "    ]\n",
    "}\n",
    "```\n",
    "\n",
    "\n",
    "__`turfPests.json`__\n",
    "```json\n",
    "{\n",
    "    \"source\": \"ucipm\",\n",
    "    \"name\": \"Fiery skipper\",                                                                                    # title field\n",
    "    \"url\": \"http://ipm.ucanr.edu/TOOLS/TURF/PESTS/inskipper.html?src=exchbt\",                                   # url field\n",
    "    \"text\": \"Identification Fiery skipper adults resemble butterflies and are 1 inch...\",                       # text field name - description\n",
    "    \"images\": [                                                                                                 # text field name - images.title, vector - title + images.title\n",
    "        {\n",
    "            \"link\": \"http://ipm.ucanr.edu/PMG/H/I-LP-HPHY-AD.003.html?src=exchbt\",\n",
    "            \"src\": \"http://ipm.ucanr.edu/TOOLS/TURF/IMAGES/PESTMANIM/infieryad.jpg?src=exchbt\",\n",
    "            \"caption\": \"Fiery skipper adult\"                                                                    # rename to title\n",
    "        },\n",
    "        {\n",
    "            \"link\": \"http://ipm.ucanr.edu/PMG/H/I-LP-HPHY-LV.009.html?src=exchbt\",\n",
    "            \"src\": \"http://ipm.ucanr.edu/TOOLS/TURF/IMAGES/PESTMANIM/inskiplv.jpg?src=exchbt\",\n",
    "            \"caption\": \"Skipper larva with dark head and thoracic shield\"\n",
    "        },\n",
    "        ...\n",
    "    ]\n",
    "}\n",
    "```\n",
    "\n",
    "\n",
    "__`veggitItems_new`__\n",
    "```json\n",
    "{\n",
    "    \"source\": \"ucipm\",\n",
    "    \"name\": \"Carrot \",                                                                                          # title field\n",
    "    \"url\": \"http://ipm.ucanr.edu/home-and-landscape/carrot/index.html?src=exchbt\",                              # url field\n",
    "    \"description\": \"Carrots can be grown nearly year-round throughout California. A number of vari...\",         # text field name - description\n",
    "    \"tips\": \"Cultural practices such as proper site selection, soil preparation, planting, and wat...\",         # text field name - tips\n",
    "    \"images\": [                                                                                                 # text field name - images.title, vector - title + images.title\n",
    "        {\n",
    "            \"link\": \"http://ipm.ucanr.edu/PMG/P/D-CA-PVIO-RO.002.html?src=exchbt\",\n",
    "            \"src\": \"http://ipm.ucanr.edu/PMG/IMAGES/P/D-CA-PVIO-RO.002.jpg?src=exchbt\",\n",
    "            \"caption\": \"Cavity spot-induced, irregularly shaped lesions across mature carrot tap r...\"          # rename to title\n",
    "        },\n",
    "        ...\n",
    "    ],\n",
    "    \"pests_and_disorders\": [                                                                                    # text field name - pests_and_disorders.title, vector - title + pests_and_disorders.title\n",
    "        {\n",
    "            \"problem\": \"Aphids\",                                                                                # rename to title\n",
    "            \"link\": \"http://ipm.ucanr.edu/PMG/PESTNOTES/pn7404.html?src=exchbt\"\n",
    "        },\n",
    "        {\n",
    "            \"problem\": \"Carrot rust fly\",\n",
    "            \"link\": \"http://ipm.ucanr.edu/PMG/GARDEN/VEGES/PESTS/carrotrustfly.html?src=exchbt\"\n",
    "        },\n",
    "        ...\n",
    "    ]\n",
    "}\n",
    "```\n",
    "\n",
    "\n",
    "__`weedItems.json`__\n",
    "```json\n",
    "{\n",
    "    \"source\": \"ucipm\",\n",
    "    \"name\": \"Gregg arrowhead\",                                                                                  # title field\n",
    "    \"url\": \"http://ipm.ucanr.edu/PMG/WEEDS/gregg_arrowhead.html?src=exchbt\",                                    # url field\n",
    "    \"description\": \"Gregg arrowhead is a native aquatic perennial that occurs in the...\",                       # text field name - description\n",
    "    \"images\": [                                                                                                 # text field name - images.title, vector title + images.title\n",
    "        {\n",
    "            \"link\": \"http://ipm.ucanr.edu/PMG/S/W-AL-SMON-MP.003.html?src=exchbt\",\n",
    "            \"caption\": \"top picture\"                                                                            # rename to title\n",
    "        },\n",
    "        {\n",
    "            \"link\": \"http://ipm.ucanr.edu/PMG/S/W-AL-SLON-SG.001.html?src=exchbt\",\n",
    "            \"caption\": \"bottom left picture\"\n",
    "        },\n",
    "        ...\n",
    "    ]\n",
    "}\n",
    "```"
   ]
  },
  {
   "cell_type": "markdown",
   "metadata": {},
   "source": [
    "__Final mapping__\n",
    "```json\n",
    "{\n",
    "    # mandatory fields\n",
    "    \"url\"       : \"url\",                            # Main URL\n",
    "    \"source\"    : \"ucipm|aekb|okstate|orstate\",     # Source Dataset\n",
    "    \"title\"     : \"title\",                          # Title of data item\n",
    "    ...\n",
    "    # other fields\n",
    "    ...\n",
    "    \"vectors\"   : {\n",
    "        \"name\"  : \"field_name_and_index\",           # Name of the field\n",
    "        \"start\" : \"number\",                         # Start index within text\n",
    "        \"end\"   : \"number\",                         # End index within text\n",
    "        \"vector\": \"dense_vector\",                   # Embedding vector\n",
    "}\n",
    "```"
   ]
  },
  {
   "cell_type": "markdown",
   "metadata": {},
   "source": [
    "## UC IPM data - April 2022 Scrape"
   ]
  },
  {
   "cell_type": "code",
   "execution_count": null,
   "metadata": {},
   "outputs": [],
   "source": [
    "_PATH = Path('../data/uc-ipm/scrape_cleaned_Apr2022/')\n",
    "DATA_FILE_NAMES = sorted(_PATH.iterdir())\n",
    "[data_file.name for data_file in DATA_FILE_NAMES]"
   ]
  },
  {
   "cell_type": "markdown",
   "metadata": {},
   "source": [
    "The list of files should be as following:\n",
    "```python\n",
    "['FruitVegCulturalItems.json',\n",
    " 'GardenControlsPestItems.json',\n",
    " 'GardenControlsPesticideItems.json',\n",
    " 'PestNotes.json',\n",
    " 'QuickTips.json',\n",
    " 'Videos.json',\n",
    " 'WeedIdItems.json']\n",
    "```\n",
    "\n",
    "The corresponding EDA for these sources (links):\n",
    "* [`FruitVegCulturalItems.json`](#fruitvegculturalitemsjson)\n",
    "* [`GardenControlsPestItems.json`](#gardercontolspestitemsjson)\n",
    "* [`GardenControlsPesticideItems.json`](#gardencontrolspesticideitemsjson)\n",
    "* [`PestNotes.json`](#pestnotesjson)\n",
    "* [`QuickTips.json`](#quicktipsjson)\n",
    "* [`Videos.json`](#videosjson)\n",
    "* [`WeedIdItems.json`](#weediditemsjson)"
   ]
  },
  {
   "cell_type": "markdown",
   "metadata": {},
   "source": [
    "### Fruit and veggie cultural items\n",
    "<a id='fruitvegculturalitemsjson'></a>"
   ]
  },
  {
   "cell_type": "code",
   "execution_count": null,
   "metadata": {},
   "outputs": [],
   "source": [
    "FILE_NAME = 'FruitVegCulturalItems.json'\n",
    "df = pd.read_json(Path.joinpath(_PATH, FILE_NAME))\n",
    "df.info()"
   ]
  },
  {
   "cell_type": "code",
   "execution_count": null,
   "metadata": {},
   "outputs": [],
   "source": [
    "print('Field with less than 50% non-null entries:')\n",
    "for c in df.columns:\n",
    "    if df[df[c].str.len() > 0].shape[0] / df[c].shape[0] < 0.5:\n",
    "        print(f'{c:<20} - {(df[df[c].str.len() > 0].shape[0] / df[c].shape[0]) * 100:.0f}%')"
   ]
  },
  {
   "cell_type": "code",
   "execution_count": null,
   "metadata": {},
   "outputs": [],
   "source": [
    "df.sample(5)"
   ]
  },
  {
   "cell_type": "code",
   "execution_count": null,
   "metadata": {},
   "outputs": [],
   "source": [
    "text_columns = ['name','description', 'images', 'tips_table']\n",
    "fig, axes = plt.subplots(1, 4, figsize = (30, 5))\n",
    "for i, col in enumerate(text_columns):\n",
    "    df[col].apply(len).hist(figure = fig, bins = 30, ax = axes[i])\n",
    "    axes[i].set_title(col, fontdict = {'fontsize': 20})\n",
    "plt.show()"
   ]
  },
  {
   "cell_type": "markdown",
   "metadata": {},
   "source": [
    "__IPM Data - `FruitVegCulturalItems.json`__\n",
    "\n",
    "| column      | type                                       |\n",
    "|-------------|--------------------------------------------|\n",
    "| name        | string                                     |\n",
    "| url         | string                                     |\n",
    "| description | string                                     |\n",
    "| images      | [{src: \" \", caption: \" \"}]                 |\n",
    "| tips_table  | [{header: \" \", row: \" \"(, row: \" \", ...)}] |\n",
    "\n",
    "Example of the single JSON data entry:\n",
    "```json\n",
    "{\n",
    "    \"name\": \"Planting cucurbits\",\n",
    "    \"url\": \"http://ipm.ucanr.edu/PMG/GARDEN/VEGES/CULTURAL/cantaloupeplant.html?src=exchbt\",\n",
    "    \"description\": \"Cucurbits can be seeded directly or transplanted into the garden. It is ...\",\n",
    "    \"images\": [\n",
    "        {\n",
    "            \"src\": \"http://ipm.ucanr.edu/PMG/GARDEN/IMAGES/CULTURAL/transplant.jpg?src=exchbt\",\n",
    "            \"caption\": \"Transplanting\"\n",
    "        }\n",
    "    ],\n",
    "    \"tips_table\": [\n",
    "        {\n",
    "            \"header\": \"Planting tips\"\n",
    "        },\n",
    "        {\n",
    "            \"row\": \"Distance in inches \"\n",
    "        },\n",
    "        {\n",
    "            \"row\": \"Between plants in rows Between rows \"\n",
    "        },\n",
    "        {\n",
    "            \"row\": \"Cucumbers 24 48 \"\n",
    "        },\n",
    "        {\n",
    "            \"row\": \"Melons 12 72 \"\n",
    "        },\n",
    "        {\n",
    "            \"row\": \"Pumpkins 48 72 \"\n",
    "        },\n",
    "        {\n",
    "            \"row\": \"Squash 48 48-72\"\n",
    "        }\n",
    "    ]\n",
    "}\n",
    "```\n",
    "__Metadata on data source__\n",
    "\n",
    "Information on fruits and veggies for cultivation purposes."
   ]
  },
  {
   "cell_type": "markdown",
   "metadata": {},
   "source": [
    "### Garden control - pest related items\n",
    "<a id='gardercontolspestitemsjson'></a>"
   ]
  },
  {
   "cell_type": "code",
   "execution_count": null,
   "metadata": {},
   "outputs": [],
   "source": [
    "FILE_NAME = 'GardenControlsPestItems.json'\n",
    "df = pd.read_json(Path.joinpath(_PATH, FILE_NAME))\n",
    "df.info()"
   ]
  },
  {
   "cell_type": "code",
   "execution_count": null,
   "metadata": {},
   "outputs": [],
   "source": [
    "print('Field with less than 50% non-null entries:')\n",
    "for c in df.columns:\n",
    "    if df[df[c].str.len() > 0].shape[0] / df[c].shape[0] < 0.5:\n",
    "        print(f'{c:<20} - {(df[df[c].str.len() > 0].shape[0] / df[c].shape[0]) * 100:.0f}%')"
   ]
  },
  {
   "cell_type": "code",
   "execution_count": null,
   "metadata": {},
   "outputs": [],
   "source": [
    "df.sample(5)"
   ]
  },
  {
   "cell_type": "code",
   "execution_count": null,
   "metadata": {},
   "outputs": [],
   "source": [
    "text_columns = ['name','description', 'images']\n",
    "fig, axes = plt.subplots(1, 3, figsize = (30, 5))\n",
    "for i, col in enumerate(text_columns):\n",
    "    df[col].apply(len).hist(figure = fig, bins = 30, ax = axes[i])\n",
    "    axes[i].set_title(col, fontdict = {'fontsize': 20})\n",
    "plt.show()"
   ]
  },
  {
   "cell_type": "markdown",
   "metadata": {},
   "source": [
    "__IPM Data - `GardenControlsPestItems.json`__\n",
    "\n",
    "| column      | type                                       |\n",
    "|-------------|--------------------------------------------|\n",
    "| name        | string                                     |\n",
    "| url         | string                                     |\n",
    "| description | string                                     |\n",
    "| images      | [{src: \" \", caption: \" \"}]                 |\n",
    "\n",
    "Example of the single JSON data entry:\n",
    "```json\n",
    "{\n",
    "    \"name\": \"Parasites\",\n",
    "    \"url\": \"http://ipm.ucanr.edu/PMG/GARDEN/CONTROLS/parasites.html?src=exchbt\",\n",
    "    \"description\": \"Insect parasites (parasitoids) are smaller than their hosts and develop inside, or attached to the ...\",\n",
    "    \"images\": [\n",
    "        {\n",
    "            \"link\": \"http://ipm.ucanr.edu/PMG/S/I-LP-SCON-AS.001.html?src=exchbt\",\n",
    "            \"src\": \"http://ipm.ucanr.edu/PMG/IMAGES/S/I-LP-SCON-AS.001a.jpg?src=exchbt\",\n",
    "            \"caption\": \"Apanteles cocoons\"\n",
    "        },\n",
    "        {\n",
    "            \"link\": \"\",\n",
    "            \"src\": \"http://ipm.ucanr.edu/PMG/IMAGES/PESTICIDES/parasitelifecycle.jpg?src=exchbt\",\n",
    "            \"caption\": \"Life cycle of a Hyposoter parasite\"\n",
    "        },\n",
    "        {\n",
    "            \"link\": \"http://ipm.ucanr.edu/PMG/S/I-LP-SCON-HF.002.html?src=exchbt\",\n",
    "            \"src\": \"http://ipm.ucanr.edu/PMG/IMAGES/S/I-LP-SCON-HF.002a.jpg?src=exchbt\",\n",
    "            \"caption\": \"Redhumped caterpillars parasitized by Hyposoter wasps\"\n",
    "        }\n",
    "    ]\n",
    "}\n",
    "```\n",
    "__Metadata on data source__\n",
    "\n",
    "Information on pest control remedies from pest perspective."
   ]
  },
  {
   "cell_type": "markdown",
   "metadata": {},
   "source": [
    "### Garden control - pesticide related items\n",
    "<a id='gardencontrolspesticideitemsjson'></a>"
   ]
  },
  {
   "cell_type": "code",
   "execution_count": null,
   "metadata": {},
   "outputs": [],
   "source": [
    "FILE_NAME = 'GardenControlsPesticideItems.json'\n",
    "df = pd.read_json(Path.joinpath(_PATH, FILE_NAME))\n",
    "df.info()"
   ]
  },
  {
   "cell_type": "code",
   "execution_count": null,
   "metadata": {},
   "outputs": [],
   "source": [
    "print('Field with less than 50% non-null entries:')\n",
    "for c in df.columns:\n",
    "    if df[df[c].str.len() > 0].shape[0] / df[c].shape[0] < 0.5:\n",
    "        print(f'{c:<20} - {(df[df[c].str.len() > 0].shape[0] / df[c].shape[0]) * 100:.0f}%')"
   ]
  },
  {
   "cell_type": "code",
   "execution_count": null,
   "metadata": {},
   "outputs": [],
   "source": [
    "df.sample(5)"
   ]
  },
  {
   "cell_type": "code",
   "execution_count": null,
   "metadata": {},
   "outputs": [],
   "source": [
    "text_columns = ['active_ingredient','pesticide_type', 'information']\n",
    "fig, axes = plt.subplots(1, 3, figsize = (30, 5))\n",
    "for i, col in enumerate(text_columns):\n",
    "    df[col].apply(len).hist(figure = fig, bins = 30, ax = axes[i])\n",
    "    axes[i].set_title(col, fontdict = {'fontsize': 20})\n",
    "plt.show()"
   ]
  },
  {
   "cell_type": "code",
   "execution_count": null,
   "metadata": {},
   "outputs": [],
   "source": [
    "information_columns = [\"acute_toxicity\", \"long_term_toxicity\", \"water_quality_rating\", \"impact_on_natural_enemies\", \"impact_on_honey_bees\", \"associated_pests\"]\n",
    "fig, axes = plt.subplots(2, 3, figsize = (30, 10))\n",
    "for i, col in enumerate(information_columns):\n",
    "    r = i//3\n",
    "    c = i%3\n",
    "    df['information'].apply(lambda x: x[0][col]).apply(len).hist(figure = fig, bins = 30, ax = axes[r][c])\n",
    "    axes[r][c].set_title(col, fontdict = {'fontsize': 20})\n",
    "plt.show()"
   ]
  },
  {
   "cell_type": "markdown",
   "metadata": {},
   "source": [
    "__IPM Data - `GardenControlsPesticideItems.json`__\n",
    "\n",
    "| column            | type                                                                                                                                                          |\n",
    "|-------------------|---------------------------------------------------------------------------------------------------------------------------------------------------------------|\n",
    "| active_ingredient | string                                                                                                                                                        |\n",
    "| url               | string                                                                                                                                                        |\n",
    "| pesticide_type    | string                                                                                                                                                        |\n",
    "| information       | [{acute_toxicity: \" \", long_term_toxicity: \" \", water_quality_rating: \" \", impact_on_natural_enemies: \" \", impact_on_honey_bees: \" \", associated_pests: \" \"}] |\n",
    "\n",
    "Example of the single JSON data entry:\n",
    "```json\n",
    "{\n",
    "    \"active_ingredient\": \"Potassium bicarbonate\",\n",
    "    \"url\": \"http://ipm.ucanr.edu/TOOLS/PNAI/pnaishow.php?id=60?src=exchbt\",\n",
    "    \"pesticide_type\": \"fungicide\",\n",
    "    \"information\": [\n",
    "        {\n",
    "            \"acute_toxicity\": \"Toxicity rating: No information\",\n",
    "            \"long_term_toxicity\": \"On US EPA list: Not listed; On CA Proposition list: Not listed\",\n",
    "            \"water_quality_rating\": \"Overall runoff risk rating: No information Notes: No information available\",\n",
    "            \"impact_on_natural_enemies\": \"Overall toxicity rating: No information\",\n",
    "            \"impact_on_honey_bees\": \"Toxicity category: No information\",\n",
    "            \"associated_pests\": \"Powdery Mildew on Ornamentals, Roses in the Garden and Landscape: Diseases and Abiotic Disorders, powdery mildew\"\n",
    "        }\n",
    "    ]\n",
    "}\n",
    "```\n",
    "__Metadata on data source__\n",
    "\n",
    "Information on pesticide control remedies with details."
   ]
  },
  {
   "cell_type": "markdown",
   "metadata": {},
   "source": [
    "### Pest notes from UC IPM\n",
    "<a id='pestnotesjson'></a>"
   ]
  },
  {
   "cell_type": "code",
   "execution_count": null,
   "metadata": {},
   "outputs": [],
   "source": [
    "FILE_NAME = 'PestNotes.json'\n",
    "df = pd.read_json(Path.joinpath(_PATH, FILE_NAME))\n",
    "df.info()"
   ]
  },
  {
   "cell_type": "code",
   "execution_count": null,
   "metadata": {},
   "outputs": [],
   "source": [
    "print('Field with less than 50% non-null entries:')\n",
    "for c in df.columns:\n",
    "    if df[df[c].str.len() > 0].shape[0] / df[c].shape[0] < 0.5:\n",
    "        print(f'{c:<20} - {(df[df[c].str.len() > 0].shape[0] / df[c].shape[0]) * 100:.0f}%')"
   ]
  },
  {
   "cell_type": "code",
   "execution_count": null,
   "metadata": {},
   "outputs": [],
   "source": [
    "df.sample(5)"
   ]
  },
  {
   "cell_type": "code",
   "execution_count": null,
   "metadata": {},
   "outputs": [],
   "source": [
    "text_columns = ['name','descriptionPestNote', 'lifecyclePestNote', 'damagePestNote', 'managementPestNote', 'imagePestNote', 'tablePestNote']\n",
    "\n",
    "fig, axes = plt.subplots(2, 4, figsize = (30, 10))\n",
    "for i, col in enumerate(text_columns):\n",
    "    r = i//4\n",
    "    c = i%4\n",
    "    df[col].apply(len).hist(figure = fig, bins = 20, ax = axes[r][c])\n",
    "    axes[r][c].set_title(col, fontdict = {'fontsize': 20})\n",
    "plt.show()"
   ]
  },
  {
   "cell_type": "markdown",
   "metadata": {},
   "source": [
    "__IPM Data - `PestNotes.json`__\n",
    "\n",
    "| column              | type                                  |\n",
    "|---------------------|---------------------------------------|\n",
    "| name                | string                                |\n",
    "| urlPestNote         | string                                |\n",
    "| descriptionPestNote | string                                |\n",
    "| lifeCycle           | string                                |\n",
    "| damagePestNote      | string                                |\n",
    "| managementPestNote  | string                                |\n",
    "| imagePestNote       | [{link: \" \", src: \" \", caption: \" \"}] |\n",
    "| tablePestNote       | [\" \", \" \"]                            |\n",
    "\n",
    "Example of the single JSON data entry:\n",
    "```json\n",
    "{\n",
    "    \"name\": \"Aphids\",\n",
    "    \"urlPestNote\": \"http://ipm.ucanr.edu/PMG/PESTNOTES/pn7404.html?src=exchbt\",\n",
    "    \"descriptionPestNote\": \"Aphids are small, soft-bodied insects with long slender mouthparts that they ...\",\n",
    "    \"lifecyclePestNote\": \"Aphids have soft pear-shaped bodies with long legs and antennae and may be green, ...\",\n",
    "    \"damagePestNote\": \"Low to moderate numbers of leaf-feeding aphids aren't usually damaging in gardens ...\",\n",
    "    \"managementPestNote\": \"Although aphids seldom kill a mature plant, the damage they do and unsightly ...\",\n",
    "    \"imagePestNote\": [\n",
    "        {\n",
    "            \"caption\": \"Wingless adults and nymphs of the potato aphid.\",\n",
    "            \"link\": \"http://ipm.ucanr.edu/PMG/M/I-HO-MEUP-NM.006.html?src=exchbt\",\n",
    "            \"src\": \"http://ipm.ucanr.edu/PMG/IMAGES/M/I-HO-MEUP-NM.006h.jpg?src=exchbt\"\n",
    "        },\n",
    "        {\n",
    "            \"caption\": \"Woolly apple aphid adults showing waxy coating.\",\n",
    "            \"link\": \"http://ipm.ucanr.edu/PMG/E/I-HO-ELAN-AD.001.html?src=exchbt\",\n",
    "            \"src\": \"http://ipm.ucanr.edu/PMG/IMAGES/E/I-HO-ELAN-AD.001h.jpg?src=exchbt\"\n",
    "        },\n",
    "        ...\n",
    "    ],\n",
    "    \"tablePestNote\": [\n",
    "        \"<table class=\\\"indextable\\\" id=\\\"TABLE1\\\" style=\\\"width:100%;\\\">\\n  <caption>Table 1. Common Aphids on Vegetables...\",\n",
    "        \"<table class=\\\"indextable\\\" id=\\\"TABLE2\\\" style=\\\"width:100%;\\\">\\n  <caption>Table 2. Common Aphids of Fruit Trees.\",\n",
    "        ...\n",
    "    ]\n",
    "}\n",
    "```\n",
    "__Metadata on data source__\n",
    "\n",
    "Data about the pests. `descriptionPestNote` can be used to describe the pest. `damagePestNote` can be used to match damage description. Target can extracted from main fields as well as image and video captions. Following slots can be used for filter - `plant_name`, `problem`, `problem_description`, `target`. \n",
    "Notes:\n",
    "* `descriptionPestNote`, `life_cycle`, `managementPestNote` - main fields.\n",
    "* `imagePestNote/caption` - additional fields.\n",
    "\n"
   ]
  },
  {
   "cell_type": "markdown",
   "metadata": {},
   "source": [
    "### Quick tips from UC IPM\n",
    "<a id='quicktipsjson'></a>"
   ]
  },
  {
   "cell_type": "code",
   "execution_count": null,
   "metadata": {},
   "outputs": [],
   "source": [
    "FILE_NAME = 'QuickTips.json'\n",
    "df = pd.read_json(Path.joinpath(_PATH, FILE_NAME))\n",
    "df.info()"
   ]
  },
  {
   "cell_type": "code",
   "execution_count": null,
   "metadata": {},
   "outputs": [],
   "source": [
    "print('Field with less than 50% non-null entries:')\n",
    "for c in df.columns:\n",
    "    if df[df[c].str.len() > 0].shape[0] / df[c].shape[0] < 0.5:\n",
    "        print(f'{c:<20} - {(df[df[c].str.len() > 0].shape[0] / df[c].shape[0]) * 100:.0f}%')"
   ]
  },
  {
   "cell_type": "code",
   "execution_count": null,
   "metadata": {},
   "outputs": [],
   "source": [
    "df.sample(5)"
   ]
  },
  {
   "cell_type": "code",
   "execution_count": null,
   "metadata": {},
   "outputs": [],
   "source": [
    "text_columns = ['name','contentQuickTips', 'imageQuickTips']\n",
    "\n",
    "fig, axes = plt.subplots(1, 3, figsize = (30, 5))\n",
    "for i, col in enumerate(text_columns):\n",
    "    df[col].apply(len).hist(figure = fig, bins = 30, ax = axes[i])\n",
    "    axes[i].set_title(col, fontdict = {'fontsize': 20})\n",
    "plt.show()"
   ]
  },
  {
   "cell_type": "markdown",
   "metadata": {},
   "source": [
    "__IPM Data - `QuickTips.json`__\n",
    "\n",
    "| column              | type                                  |\n",
    "|---------------------|---------------------------------------|\n",
    "| name                | string                                |\n",
    "| urlQuickTip         | string                                |\n",
    "| contentQuickTip     | string                                |\n",
    "| imageQuickTips      | [{link: \" \", src: \" \", caption: \" \"}] |\n",
    "\n",
    "Example of the single JSON data entry:\n",
    "```json\n",
    "{\n",
    "    \"name\": \"Bark Beetles\",\n",
    "    \"urlQuickTip\": \"http://ipm.ucanr.edu/QT/barkbeetlescard.html?src=exchbt\",\n",
    "    \"contentQuickTips\": \"Bark beetles are common pests of many trees, but some of the most damaging ...\",\n",
    "    \"imageQuickTips\": [\n",
    "        {\n",
    "            \"link\": \"http://ipm.ucanr.edu/PMG/I/I-CO-IPAR-AD.001.html?src=exchbt\",\n",
    "            \"src\": \"http://ipm.ucanr.edu/PMG/IMAGES/I/I-CO-IPAR-AD.001h.jpg?src=exchbt\",\n",
    "            \"caption\": \"Ips bark beetle (actual size 1/8 to 3/8 inch long).\"\n",
    "        },\n",
    "        {\n",
    "            \"link\": \"http://ipm.ucanr.edu/PMG/I/I-CO-ISPP-CD.004.html?src=exchbt\",\n",
    "            \"src\": \"http://ipm.ucanr.edu/PMG/IMAGES/I/I-CO-ISPP-CD.004h.jpg?src=exchbt\",\n",
    "            \"caption\": \"Engraver beetle holes and sap.\"\n",
    "        },\n",
    "        ...\n",
    "    ]\n",
    "},\n",
    "},\n",
    "```\n",
    "__Metadata on data source__\n",
    "\n",
    "Data about the quick tips on pests. `contentQuickTips` can be used to describe the quick tips.\n",
    "Notes:\n",
    "* `contentQuickTips` - main fields.\n",
    "* `imageQuickTips/caption` - additional fields."
   ]
  },
  {
   "cell_type": "markdown",
   "metadata": {},
   "source": [
    "### Videos from UC IPM\n",
    "<a id='videosjson'></a>"
   ]
  },
  {
   "cell_type": "code",
   "execution_count": null,
   "metadata": {},
   "outputs": [],
   "source": [
    "FILE_NAME = 'Videos.json'\n",
    "df = pd.read_json(Path.joinpath(_PATH, FILE_NAME))\n",
    "df.info()"
   ]
  },
  {
   "cell_type": "code",
   "execution_count": null,
   "metadata": {},
   "outputs": [],
   "source": [
    "print('Field with less than 50% non-null entries:')\n",
    "for c in df.columns:\n",
    "    if df[df[c].str.len() > 0].shape[0] / df[c].shape[0] < 0.5:\n",
    "        print(f'{c:<20} - {(df[df[c].str.len() > 0].shape[0] / df[c].shape[0]) * 100:.0f}%')"
   ]
  },
  {
   "cell_type": "code",
   "execution_count": null,
   "metadata": {},
   "outputs": [],
   "source": [
    "df.sample(5)"
   ]
  },
  {
   "cell_type": "code",
   "execution_count": null,
   "metadata": {},
   "outputs": [],
   "source": [
    "text_columns = ['title','description']\n",
    "\n",
    "fig, axes = plt.subplots(1, 2, figsize = (30, 5))\n",
    "for i, col in enumerate(text_columns):\n",
    "    df[col].apply(len).hist(figure = fig, bins = 30, ax = axes[i])\n",
    "    axes[i].set_title(col, fontdict = {'fontsize': 20})\n",
    "plt.show()"
   ]
  },
  {
   "cell_type": "markdown",
   "metadata": {},
   "source": [
    "__IPM Data - `Videos.json`__\n",
    "\n",
    "| column              | type                                  |\n",
    "|---------------------|---------------------------------------|\n",
    "| title               | string                                |\n",
    "| url                 | string                                |\n",
    "| description         | string                                |\n",
    "\n",
    "Example of the single JSON data entry:\n",
    "```json\n",
    "{\n",
    "    \"title\": \"How to Monitor for Aphids in Plum and Prune\",\n",
    "    \"url\": \"https://www.youtube.com/watch?v=kbm55xeQlWs?src=exchbt\",\n",
    "    \"description\": \"Learn how to monitor for leaf curl plum aphids and mealy plum aphids in plum and prune orchards.  Find out more at http://ipm.ucanr.edu\"\n",
    "}\n",
    "```\n",
    "__Metadata on data source__\n",
    "\n",
    "Data about the videos from UC IPM (all videos are in YouTube originally). `description` can be used to describe the video.\n",
    "Notes:\n",
    "* `description` - main fields."
   ]
  },
  {
   "cell_type": "markdown",
   "metadata": {},
   "source": [
    "### Weed Items\n",
    "<a id='weediditemsjson'></a>"
   ]
  },
  {
   "cell_type": "code",
   "execution_count": null,
   "metadata": {},
   "outputs": [],
   "source": [
    "FILE_NAME = 'WeedIdItems.json'\n",
    "df = pd.read_json(Path.joinpath(_PATH, FILE_NAME))\n",
    "df.info()"
   ]
  },
  {
   "cell_type": "code",
   "execution_count": null,
   "metadata": {},
   "outputs": [],
   "source": [
    "print('Field with less than 50% non-null entries:')\n",
    "for c in df.columns:\n",
    "    if df[df[c].str.len() > 0].shape[0] / df[c].shape[0] < 0.5:\n",
    "        print(f'{c:<20} - {(df[df[c].str.len() > 0].shape[0] / df[c].shape[0]) * 100:.0f}%')"
   ]
  },
  {
   "cell_type": "code",
   "execution_count": null,
   "metadata": {},
   "outputs": [],
   "source": [
    "df.sample(5)"
   ]
  },
  {
   "cell_type": "code",
   "execution_count": null,
   "metadata": {},
   "outputs": [],
   "source": [
    "text_columns = ['name','description', 'images']\n",
    "fig, axes = plt.subplots(1, 3, figsize = (30, 5))\n",
    "for i, col in enumerate(text_columns):\n",
    "    df[col].apply(len).hist(figure = fig, bins = 30, ax = axes[i])\n",
    "    axes[i].set_title(col, fontdict = {'fontsize': 20})\n",
    "plt.show()"
   ]
  },
  {
   "cell_type": "markdown",
   "metadata": {},
   "source": [
    "__IPM Data - `WeedIdItems.json`__\n",
    "\n",
    "| column      | type                                       |\n",
    "|-------------|--------------------------------------------|\n",
    "| name        | string                                     |\n",
    "| url         | string                                     |\n",
    "| description | string                                     |\n",
    "| images      | [{src: \" \", caption: \" \"}]                 |\n",
    "\n",
    "Example of the single JSON data entry:\n",
    "```json\n",
    "{\n",
    "    \"name\": \"Growth habit\",\n",
    "    \"url\": \"http://ipm.ucanr.edu/PMG/WEEDS/ID/broadhabit.html?src=exchbt\",\n",
    "    \"description\": \"Broadleaves may grow prostrate and form a mat or they may grow upright.\",\n",
    "    \"images\": [\n",
    "        {\n",
    "            \"src\": \"http://ipm.ucanr.edu/TOOLS/TURF/IMAGES/PESTMANIM/prostrate_upright.jpg?src=exchbt\",\n",
    "            \"caption\": \"A plant growing prostrate and upright\"\n",
    "        }\n",
    "    ]\n",
    "}\n",
    "````\n",
    "__Metadata on data source__\n",
    "\n",
    "Information on weed pests."
   ]
  },
  {
   "cell_type": "markdown",
   "metadata": {},
   "source": [
    "### Final Transformation\n"
   ]
  },
  {
   "cell_type": "markdown",
   "metadata": {},
   "source": [
    "Data source will be mapped to following structure:\n",
    "```json\n",
    "{\n",
    "    # mandatory fields\n",
    "    \"url\"       : \"url\",                            # Main URL\n",
    "    \"source\"    : \"ucipm|aekb|okstate|orstate\",     # Source Dataset\n",
    "    \"title\"     : \"title\",                          # Title of data item\n",
    "    ...\n",
    "    # other fields\n",
    "    ...\n",
    "    \"vectors\"   : {\n",
    "        \"name\"  : \"field_name_and_index\",           # Name of the field\n",
    "        \"start\" : \"number\",                         # Start index within text\n",
    "        \"end\"   : \"number\",                         # End index within text\n",
    "        \"vector\": \"dense_vector\",                   # Embedding vector\n",
    "}\n",
    "```\n",
    "\n",
    "Title itself will be encoded as well into vector field."
   ]
  },
  {
   "cell_type": "markdown",
   "metadata": {},
   "source": [
    "\n",
    "__Fruit and Veggie Cultural__\n",
    "\n",
    "```json\n",
    "{\n",
    "    \"name\": \"Planting cucurbits\",                                                                   # title field\n",
    "    \"url\": \"http://ipm.ucanr.edu/PMG/GARDEN/VEGES/CULTURAL/cantaloupeplant.html?src=exchbt\",        # url field\n",
    "    \"description\": \"Cucurbits can be seeded directly or transplanted into the garden. It is ...\",   # text field name - description\n",
    "    \"images\": [                                                                                     # text field name - images.title, vector - title + images.title\n",
    "        {\n",
    "            \"src\": \"http://ipm.ucanr.edu/PMG/GARDEN/IMAGES/CULTURAL/transplant.jpg?src=exchbt\",\n",
    "            \"caption\": \"Transplanting\"\n",
    "        }\n",
    "    ],\n",
    "    \"tips_table\": [                                                                                 # text field name - tips_table.title, vector - title + tips_table.title\n",
    "        {\n",
    "            \"header\": \"Planting tips\"                                                               # rename to title and concatenate with main title\n",
    "        },\n",
    "        {\n",
    "            \"row\": \"Distance in inches \"                                                            # rename to title and concatenate with header (title) and main title\n",
    "        },\n",
    "        {\n",
    "            \"row\": \"Between plants in rows Between rows \"\n",
    "        },\n",
    "        {\n",
    "            \"row\": \"Cucumbers 24 48 \"\n",
    "        },\n",
    "        {\n",
    "            \"row\": \"Melons 12 72 \"\n",
    "        },\n",
    "        {\n",
    "            \"row\": \"Pumpkins 48 72 \"\n",
    "        },\n",
    "        {\n",
    "            \"row\": \"Squash 48 48-72\"\n",
    "        }\n",
    "    ]\n",
    "}\n",
    "```\n",
    "__Garden Pest Control__\n",
    "```json\n",
    "{\n",
    "    \"name\": \"Parasites\",                                                                                                        # title field\n",
    "    \"url\": \"http://ipm.ucanr.edu/PMG/GARDEN/CONTROLS/parasites.html?src=exchbt\",                                                # url field\n",
    "    \"description\": \"Insect parasites (parasitoids) are smaller than their hosts and develop inside, or attached to the ...\",    # text field name - description\n",
    "    \"images\": [                                                                                                                 # text field name - images.title, vector - title + images.title\n",
    "        {\n",
    "            \"link\": \"http://ipm.ucanr.edu/PMG/S/I-LP-SCON-AS.001.html?src=exchbt\",\n",
    "            \"src\": \"http://ipm.ucanr.edu/PMG/IMAGES/S/I-LP-SCON-AS.001a.jpg?src=exchbt\",\n",
    "            \"caption\": \"Apanteles cocoons\"                                                                                      # rename to title\n",
    "        },\n",
    "        {\n",
    "            \"link\": \"\",\n",
    "            \"src\": \"http://ipm.ucanr.edu/PMG/IMAGES/PESTICIDES/parasitelifecycle.jpg?src=exchbt\",\n",
    "            \"caption\": \"Life cycle of a Hyposoter parasite\"\n",
    "        },\n",
    "        {\n",
    "            \"link\": \"http://ipm.ucanr.edu/PMG/S/I-LP-SCON-HF.002.html?src=exchbt\",\n",
    "            \"src\": \"http://ipm.ucanr.edu/PMG/IMAGES/S/I-LP-SCON-HF.002a.jpg?src=exchbt\",\n",
    "            \"caption\": \"Redhumped caterpillars parasitized by Hyposoter wasps\"\n",
    "        }\n",
    "    ]\n",
    "}\n",
    "```\n",
    "__Garden Pesticide Control__\n",
    "```json\n",
    "{\n",
    "    \"active_ingredient\": \"Potassium bicarbonate\",                                                                       # title field\n",
    "    \"url\": \"http://ipm.ucanr.edu/TOOLS/PNAI/pnaishow.php?id=60?src=exchbt\",                                             # url field\n",
    "    \"pesticide_type\": \"fungicide\",                                                                                      # merge with title\n",
    "    \"information\": [                                                                                                    # text field name - information (concatenate subfields)\n",
    "        {\n",
    "            \"acute_toxicity\": \"Toxicity rating: No information\",                                                        # Concatenate with field name and text\n",
    "            \"long_term_toxicity\": \"On US EPA list: Not listed; On CA Proposition list: Not listed\",                     # Concatenate with field name and text\n",
    "            \"water_quality_rating\": \"Overall runoff risk rating: No information Notes: No information available\",       # Concatenate with field name and text\n",
    "            \"impact_on_natural_enemies\": \"Overall toxicity rating: No information\",                                     # Concatenate with field name and text\n",
    "            \"impact_on_honey_bees\": \"Toxicity category: No information\",                                                # Concatenate with field name and text\n",
    "            \"associated_pests\": \"Powdery Mildew on Ornamentals, Roses in the Garden and Landscape: Diseases and ...\"    # Concatenate with field name and text\n",
    "        }\n",
    "    ]\n",
    "}\n",
    "```\n",
    "__Pest Notes__\n",
    "```json\n",
    "{\n",
    "    \"name\": \"Aphids\",                                                                                       # title field (NOTE: remove PestNote suffix from the field names)\n",
    "    \"urlPestNote\": \"http://ipm.ucanr.edu/PMG/PESTNOTES/pn7404.html?src=exchbt\",                             # url field\n",
    "    \"descriptionPestNote\": \"Aphids are small, soft-bodied insects with long  ...\",                          # text field name - description\n",
    "    \"lifecyclePestNote\": \"Aphids have soft pear-shaped bodies with long legs  ...\",                         # text field name - lifecycle\n",
    "    \"damagePestNote\": \"Low to moderate numbers of leaf-feeding aphids aren't ...\",                          # text field name - damage\n",
    "    \"managementPestNote\": \"Although aphids seldom kill a mature plant, the ...\",                            # text field name - management\n",
    "    \"imagePestNote\": [                                                                                      # text field name - image.title, vector - title + image.title\n",
    "        {\n",
    "            \"caption\": \"Wingless adults and nymphs of the potato aphid.\",                                   # rename to title\n",
    "            \"link\": \"http://ipm.ucanr.edu/PMG/M/I-HO-MEUP-NM.006.html?src=exchbt\",\n",
    "            \"src\": \"http://ipm.ucanr.edu/PMG/IMAGES/M/I-HO-MEUP-NM.006h.jpg?src=exchbt\"\n",
    "        },\n",
    "        {\n",
    "            \"caption\": \"Woolly apple aphid adults showing waxy coating.\",\n",
    "            \"link\": \"http://ipm.ucanr.edu/PMG/E/I-HO-ELAN-AD.001.html?src=exchbt\",\n",
    "            \"src\": \"http://ipm.ucanr.edu/PMG/IMAGES/E/I-HO-ELAN-AD.001h.jpg?src=exchbt\"\n",
    "        },\n",
    "        ...\n",
    "    ],\n",
    "    \"tablePestNote\": [                                                                                      # omit for now (requested change in the structure from Lauren)\n",
    "        \"<table class=\\\"indextable\\\" id=\\\"TABLE1\\\" style=\\\"width:100%;\\\">\\n  <caption>Table 1. Common Aphids on Vegetables...\",\n",
    "        \"<table class=\\\"indextable\\\" id=\\\"TABLE2\\\" style=\\\"width:100%;\\\">\\n  <caption>Table 2. Common Aphids of Fruit Trees.\",\n",
    "        ...\n",
    "    ]\n",
    "}\n",
    "```\n",
    "__Quick Tips__\n",
    "```json\n",
    "{\n",
    "    \"name\": \"Bark Beetles\",                                                                                 # title field (NOTE: remove QuickTip suffix from the field names)\n",
    "    \"urlQuickTip\": \"http://ipm.ucanr.edu/QT/barkbeetlescard.html?src=exchbt\",                               # url field\n",
    "    \"contentQuickTips\": \"Bark beetles are common pests of many trees, but some of the most damaging ...\",   # text field name - content\n",
    "    \"imageQuickTips\": [                                                                                     # text field name - image.title, vector - title + image.title\n",
    "        {\n",
    "            \"link\": \"http://ipm.ucanr.edu/PMG/I/I-CO-IPAR-AD.001.html?src=exchbt\",\n",
    "            \"src\": \"http://ipm.ucanr.edu/PMG/IMAGES/I/I-CO-IPAR-AD.001h.jpg?src=exchbt\",\n",
    "            \"caption\": \"Ips bark beetle (actual size 1/8 to 3/8 inch long).\"                                # rename to title\n",
    "        },\n",
    "        {\n",
    "            \"link\": \"http://ipm.ucanr.edu/PMG/I/I-CO-ISPP-CD.004.html?src=exchbt\",\n",
    "            \"src\": \"http://ipm.ucanr.edu/PMG/IMAGES/I/I-CO-ISPP-CD.004h.jpg?src=exchbt\",\n",
    "            \"caption\": \"Engraver beetle holes and sap.\"\n",
    "        },\n",
    "        ...\n",
    "    ]\n",
    "}\n",
    "```\n",
    "__Videos__\n",
    "```json\n",
    "{\n",
    "    \"title\": \"How to Monitor for Aphids in Plum and Prune\",                                                 # title field\n",
    "    \"url\": \"https://www.youtube.com/watch?v=kbm55xeQlWs?src=exchbt\",                                        # url field\n",
    "    \"description\": \"Learn how to monitor for leaf curl plum aphids and mealy plum aphids in plum ...\"       # text field name - description\n",
    "}\n",
    "```\n",
    "__Weed Pests__\n",
    "```json\n",
    "{\n",
    "    \"name\": \"Growth habit\",                                                                                 # title field\n",
    "    \"url\": \"http://ipm.ucanr.edu/PMG/WEEDS/ID/broadhabit.html?src=exchbt\",                                  # url field\n",
    "    \"description\": \"Broadleaves may grow prostrate and form a mat or they may grow upright.\",               # text field name - description\n",
    "    \"images\": [                                                                                             # text field name - images.title, vector - title + images.title\n",
    "        {\n",
    "            \"src\": \"http://ipm.ucanr.edu/TOOLS/TURF/IMAGES/PESTMANIM/prostrate_upright.jpg?src=exchbt\",\n",
    "            \"caption\": \"A plant growing prostrate and upright\"                                              # rename to title\n",
    "        }\n",
    "    ]\n",
    "}\n",
    "```"
   ]
  },
  {
   "cell_type": "markdown",
   "metadata": {},
   "source": [
    "__Final mapping__\n",
    "```json\n",
    "{\n",
    "    # mandatory fields\n",
    "    \"url\"       : \"url\",                            # Main URL\n",
    "    \"source\"    : \"ucipm|aekb|okstate|orstate\",     # Source Dataset\n",
    "    \"title\"     : \"title\",                          # Title of data item\n",
    "    ...\n",
    "    # other fields\n",
    "    ...\n",
    "    \"vectors\"   : {\n",
    "        \"name\"  : \"field_name_and_index\",           # Name of the field\n",
    "        \"start\" : \"number\",                         # Start index within text\n",
    "        \"end\"   : \"number\",                         # End index within text\n",
    "        \"vector\": \"dense_vector\",                   # Embedding vector\n",
    "}\n",
    "```"
   ]
  },
  {
   "cell_type": "markdown",
   "metadata": {},
   "source": [
    "## AskExtension Data"
   ]
  },
  {
   "cell_type": "code",
   "execution_count": null,
   "metadata": {},
   "outputs": [],
   "source": [
    "_PATH = Path('../data/askextension_kb/')\n",
    "DATA_FILE_NAMES = sorted(_PATH.iterdir())\n",
    "\n",
    "print(f'List of files:\\n{[data_file.name for data_file in DATA_FILE_NAMES]}')\n",
    "\n",
    "with open(DATA_FILE_NAMES[0]) as f:\n",
    "    f = json.load(f)\n",
    "    print(json.dumps(f[0], indent = 2))"
   ]
  },
  {
   "cell_type": "markdown",
   "metadata": {},
   "source": [
    "### Data"
   ]
  },
  {
   "cell_type": "markdown",
   "metadata": {},
   "source": [
    "The list of files should be as following:\n",
    "```python\n",
    "['2012-2013.json', '2014-2015.json', '2016-2017.json', '2018-2019.json', '2020-1.json', '2020-2.json', '2021-1.json', '2021-2.json']\n",
    "```\n",
    "\n",
    "It is a list of dictionary objects with following fields:\n",
    "- `faq-id` - ID of the ticket\n",
    "- `title` - title of the ticket along ID of the ticket (__other__ ID)\n",
    "- `created` - ticket creating date\n",
    "- `updated` - ticket last update date\n",
    "- `tags` - list of tags\n",
    "- `state` - state ticket was created in\n",
    "- `county` - county ticket was created in\n",
    "- `question` - question that has been posted\n",
    "- `answer` - response lists presented in numbered dictionary data type\n",
    "\n",
    "Final structure:\n",
    "```text\n",
    "url - composed field out of `faq-id` and main URL   # url field\n",
    "title - title                                       # title field\n",
    "response - `answer.response                         # text field name - answer.response\n",
    "\n",
    "__NB__: We will filtering in only tickets from California, Oregon, and Oklahoma"
   ]
  },
  {
   "cell_type": "markdown",
   "metadata": {},
   "source": [
    "### Final mapping"
   ]
  },
  {
   "cell_type": "markdown",
   "metadata": {},
   "source": [
    "Data source will be mapped to following structure:\n",
    "```json\n",
    "{\n",
    "    # mandatory fields\n",
    "    \"url\"       : \"url\",                            # Main URL\n",
    "    \"source\"    : \"ucipm|aekb|okstate|orstate\",     # Source Dataset\n",
    "    \"title\"     : \"title\",                          # Title of data item\n",
    "    ...\n",
    "    # other fields\n",
    "    ...\n",
    "    \"vectors\"   : {\n",
    "        \"name\"  : \"field_name_and_index\",           # Name of the field\n",
    "        \"start\" : \"number\",                         # Start index within text\n",
    "        \"end\"   : \"number\",                         # End index within text\n",
    "        \"vector\": \"dense_vector\",                   # Embedding vector\n",
    "}\n",
    "```\n",
    "Title itself will be encoded as well into vector field."
   ]
  },
  {
   "cell_type": "markdown",
   "metadata": {},
   "source": [
    "## Oklahoma State University Data"
   ]
  },
  {
   "cell_type": "markdown",
   "metadata": {},
   "source": [
    "### EDA"
   ]
  },
  {
   "cell_type": "code",
   "execution_count": null,
   "metadata": {},
   "outputs": [],
   "source": [
    "_PATH = Path('../data/okstate/fact-sheets-out-cleaner.json')\n",
    "df = pd.read_json(_PATH)\n",
    "df.info()"
   ]
  },
  {
   "cell_type": "markdown",
   "metadata": {},
   "source": [
    "Data looks as follows:\n",
    "```json\n",
    "{\n",
    "\"title\":,                               # title field\n",
    "\"link\":,                                # url field\n",
    "\"thumbnail\":,\n",
    "\"description\":,                         # text field name - description\n",
    "\"content\": [                            \n",
    "    {\n",
    "        \"header\":,                      # text field name - content.header, vector - title + header\n",
    "        \"text\":,                        # text field name - content.text, vector - text\n",
    "        \"parent_header\":,\n",
    "        \"images\": {\n",
    "            \"image_urls\": [ ],\n",
    "            \"image_captions\": [ ],\n",
    "            \"image_indexes\": [ ]\n",
    "        },\n",
    "        \"Table\": {\n",
    "            \"raw_table_text\": [],\n",
    "            \"table_indexes\": []\n",
    "        }\n",
    "    },\n",
    "],\n",
    "\"author\": ...,\n",
    "\"pubdate\": \"2017-07-01T08:12:21 (ex)\",\n",
    "\"category\": [ ],\n",
    "\"displaydate\": \"2017-07-01T08:12:21 (ex)\"\n",
    "}\n",
    "```\n",
    "\n",
    "For the sake of simplicity, we will disregard following columns - `thumbnail`, `author`, `pubdate`, `category`, `displaydate`.\n",
    "\n",
    "Also for the `content` field, we will concatenate `header` with `title` (except for the value `Introduction-w/o-header`), and use only field `header` and `text` within `content` field."
   ]
  },
  {
   "cell_type": "markdown",
   "metadata": {},
   "source": [
    "So the final data structure will look like as follows:\n",
    "```json\n",
    "{\n",
    "    \"url\": \"link\",\n",
    "    \"title\": \"title\",\n",
    "    \"description\": \"description\",\n",
    "    \"content\": [{\n",
    "        \"header\": \"title\" + \"header\",\n",
    "        \"text\": \"text\"\n",
    "    }]\n",
    "}"
   ]
  },
  {
   "cell_type": "code",
   "execution_count": null,
   "metadata": {},
   "outputs": [],
   "source": [
    "df.sample(5)"
   ]
  },
  {
   "cell_type": "code",
   "execution_count": null,
   "metadata": {},
   "outputs": [],
   "source": [
    "text_columns = ['title', 'description']\n",
    "\n",
    "fig, axes = plt.subplots(1, 2, figsize = (30, 5))\n",
    "for i, col in enumerate(text_columns):\n",
    "    df[col].apply(len).hist(figure = fig, bins = 30, ax = axes[i])\n",
    "    axes[i].set_title(col, fontdict = {'fontsize': 20})\n",
    "plt.show()"
   ]
  },
  {
   "cell_type": "code",
   "execution_count": null,
   "metadata": {},
   "outputs": [],
   "source": [
    "temp_data = {\n",
    "    'title': [],\n",
    "    'text': []\n",
    "}\n",
    "\n",
    "for i, item in df.iterrows():\n",
    "    temp_data['title'].extend([l['header'] for l in item['content']])\n",
    "    temp_data['text'].extend([l['text'] for l in item['content']])\n",
    "\n",
    "temp = pd.DataFrame(temp_data)\n",
    "fig, axes = plt.subplots(1, 2, figsize = (30, 5))\n",
    "for i, col in enumerate(['title', 'text']):\n",
    "    temp[col].apply(len).hist(figure = fig, bins = 30, ax = axes[i])\n",
    "    axes[i].set_title(col, fontdict = {'fontsize': 20})\n",
    "plt.show()"
   ]
  },
  {
   "cell_type": "code",
   "execution_count": null,
   "metadata": {},
   "outputs": [],
   "source": [
    "print('Examples of long titles:')\n",
    "for i, item in df.iterrows():\n",
    "    main_url = False\n",
    "    for l1 in item['content']:\n",
    "        if len(l1['header']) > 150:\n",
    "            if not main_url:\n",
    "                print(item['link'])\n",
    "                main_url = True\n",
    "            print(f'Item \"{l1[\"header\"]}\" has length of {len(l1[\"header\"])} chars')\n",
    "    if main_url:\n",
    "        print(' ')"
   ]
  },
  {
   "cell_type": "code",
   "execution_count": null,
   "metadata": {},
   "outputs": [],
   "source": [
    "print('Examples of long content text:')\n",
    "for i, item in df.iterrows():\n",
    "    main_url = False\n",
    "    for i1, l1 in enumerate(item['content']):\n",
    "        if len(l1['text']) > 10000:\n",
    "            if not main_url:\n",
    "                print(item['link'])\n",
    "                main_url = True\n",
    "            print(f'{i1} Item \"{l1[\"header\"]}\" has length of over 10000 chars - {len(l1[\"text\"])}')\n",
    "    if main_url:\n",
    "        print(' ')\n",
    "    "
   ]
  },
  {
   "cell_type": "markdown",
   "metadata": {},
   "source": [
    "### Final mapping\n",
    "\n",
    "Data source will be mapped to following structure:\n",
    "```json\n",
    "{\n",
    "    \"data\"      {                                   # Dynamic field\n",
    "        ...                                         # Data itself\n",
    "    }\n",
    "    \"url\"       : \"url\",                            # Main URL\n",
    "    \"source\"    : \"ucipm|aekb|okstate|orstate\",     # Source Dataset\n",
    "    \"title\"     : \"title\",                          # Title of data item\n",
    "    \"vectors\"   : {\n",
    "        \"name\"  : \"field_name_and_index\",           # Name of the field\n",
    "        \"start\" : \"number\",                         # Start index within text\n",
    "        \"end\"   : \"number\",                         # End index within text\n",
    "        \"vector\": \"dense_vector\",                   # Embedding vector\n",
    "}\n",
    "```\n",
    "\n",
    "Title itself will be encoded as well into vector field."
   ]
  },
  {
   "cell_type": "markdown",
   "metadata": {},
   "source": [
    "## Oregon State University Data"
   ]
  },
  {
   "cell_type": "markdown",
   "metadata": {},
   "source": [
    "### EDA"
   ]
  },
  {
   "cell_type": "code",
   "execution_count": null,
   "metadata": {},
   "outputs": [],
   "source": [
    "_PATH = Path('../data/orstate/OSU-Out-Cleaner.json')\n",
    "df = pd.read_json(_PATH)\n",
    "df.info()"
   ]
  },
  {
   "cell_type": "markdown",
   "metadata": {},
   "source": [
    "Data looks as follows:\n",
    "```json\n",
    "{\n",
    "\"title\":,                               # title field\n",
    "\"link\":,                                # url field\n",
    "\"thumbnail\":,\n",
    "\"description\":,                         # text field name - description\n",
    "\"content\": [                            \n",
    "    {\n",
    "        \"header\":,                      # text field name - content.header, vector - title + header\n",
    "        \"text\":,                        # text field name - content.text, vector - text\n",
    "        \"parent_header\":,\n",
    "        \"images\": {\n",
    "            \"image_urls\": [ ],\n",
    "            \"image_captions\": [ ],\n",
    "            \"image_indexes\": [ ]\n",
    "        },\n",
    "        \"Table\": {\n",
    "            \"raw_table_text\": [],\n",
    "            \"table_indexes\": []\n",
    "        }\n",
    "    },\n",
    "],\n",
    "\"author\": ...,\n",
    "\"pubdate\": \"2017-07-01T08:12:21 (ex)\",\n",
    "\"category\": [ ],\n",
    "\"displaydate\": \"2017-07-01T08:12:21 (ex)\"\n",
    "}\n",
    "```\n",
    "\n",
    "For the sake of simplicity, we will disregard following columns - `thumbnail`, `author`, `pubdate`, `category`, `displaydate`.\n",
    "\n",
    "Also for the `content` field, we will concatenate `header` with `title` (except for the value `Introduction-w/o-header`), and use only field `header` and `text` within `content` field."
   ]
  },
  {
   "cell_type": "code",
   "execution_count": null,
   "metadata": {},
   "outputs": [],
   "source": [
    "df.sample(5)"
   ]
  },
  {
   "cell_type": "code",
   "execution_count": null,
   "metadata": {},
   "outputs": [],
   "source": [
    "text_columns = ['title', 'description']\n",
    "\n",
    "fig, axes = plt.subplots(1, 2, figsize = (30, 5))\n",
    "for i, col in enumerate(text_columns):\n",
    "    df[col].apply(len).hist(figure = fig, bins = 30, ax = axes[i])\n",
    "    axes[i].set_title(col, fontdict = {'fontsize': 20})\n",
    "plt.show()"
   ]
  },
  {
   "cell_type": "code",
   "execution_count": null,
   "metadata": {},
   "outputs": [],
   "source": [
    "temp_data = {\n",
    "    'title': [],\n",
    "    'text': []\n",
    "}\n",
    "\n",
    "for i, item in df.iterrows():\n",
    "    temp_data['title'].extend([l['header'] for l in item['content']])\n",
    "    temp_data['text'].extend([l['text'] for l in item['content']])\n",
    "\n",
    "temp = pd.DataFrame(temp_data)\n",
    "fig, axes = plt.subplots(1, 2, figsize = (30, 5))\n",
    "for i, col in enumerate(['title', 'text']):\n",
    "    temp[col].apply(len).hist(figure = fig, bins = 30, ax = axes[i])\n",
    "    axes[i].set_title(col, fontdict = {'fontsize': 20})\n",
    "plt.show()"
   ]
  },
  {
   "cell_type": "code",
   "execution_count": null,
   "metadata": {},
   "outputs": [],
   "source": [
    "print('Examples of long titles:')\n",
    "for i, item in df.iterrows():\n",
    "    main_url = False\n",
    "    for l1 in item['content']:\n",
    "        if len(l1['header']) > 150:\n",
    "            if not main_url:\n",
    "                print(item['link'])\n",
    "                main_url = True\n",
    "            print(f'Item \"{l1[\"header\"]}\" has length of {len(l1[\"header\"])} chars')\n",
    "    if main_url:\n",
    "        print(' ')"
   ]
  },
  {
   "cell_type": "code",
   "execution_count": null,
   "metadata": {},
   "outputs": [],
   "source": [
    "print('Examples of long content text:')\n",
    "for i, item in df.iterrows():\n",
    "    main_url = False\n",
    "    for i1, l1 in enumerate(item['content']):\n",
    "        if len(l1['text']) > 10000:\n",
    "            if not main_url:\n",
    "                print(item['link'])\n",
    "                main_url = True\n",
    "            print(f'{i1} Item \"{l1[\"header\"]}\" has length of over 10000 chars - {len(l1[\"text\"])}')\n",
    "    if main_url:\n",
    "        print(' ')\n",
    "    "
   ]
  },
  {
   "cell_type": "markdown",
   "metadata": {},
   "source": [
    "### Final mapping\n",
    "\n",
    "Data source will be mapped to following structure:\n",
    "```json\n",
    "{\n",
    "    \"data\"      {                                   # Dynamic field\n",
    "        ...                                         # Data itself\n",
    "    }\n",
    "    \"url\"       : \"url\",                            # Main URL\n",
    "    \"source\"    : \"ucipm|aekb|okstate|orstate\",     # Source Dataset\n",
    "    \"title\"     : \"title\",                          # Title of data item\n",
    "    \"vectors\"   : {\n",
    "        \"name\"  : \"field_name_and_index\",           # Name of the field\n",
    "        \"start\" : \"number\",                         # Start index within text\n",
    "        \"end\"   : \"number\",                         # End index within text\n",
    "        \"vector\": \"dense_vector\",                   # Embedding vector\n",
    "}\n",
    "```\n",
    "\n",
    "Title itself will be encoded as well into vector field."
   ]
  }
 ],
 "metadata": {
  "kernelspec": {
   "display_name": "Python 3.9.13 ('es-data-ingestion')",
   "language": "python",
   "name": "python3"
  },
  "language_info": {
   "codemirror_mode": {
    "name": "ipython",
    "version": 3
   },
   "file_extension": ".py",
   "mimetype": "text/x-python",
   "name": "python",
   "nbconvert_exporter": "python",
   "pygments_lexer": "ipython3",
   "version": "3.9.13"
  },
  "orig_nbformat": 4,
  "vscode": {
   "interpreter": {
    "hash": "607e550c5f7577ecefb8f11c45030a36424a53b9c08a45019262888187990ca7"
   }
  }
 },
 "nbformat": 4,
 "nbformat_minor": 2
}
