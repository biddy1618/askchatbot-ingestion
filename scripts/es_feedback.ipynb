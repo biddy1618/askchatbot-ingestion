{
 "cells": [
  {
   "cell_type": "markdown",
   "metadata": {},
   "source": [
    "# Logging feedback of queries to ES"
   ]
  },
  {
   "cell_type": "markdown",
   "metadata": {},
   "source": [
    "## Creating index"
   ]
  },
  {
   "cell_type": "code",
   "execution_count": null,
   "metadata": {},
   "outputs": [],
   "source": [
    "import os\n",
    "os.environ['TF_CACHE_DIR'   ] = '/var/tmp/models'\n",
    "\n",
    "ES_USERNAME = 'elastic'\n",
    "ES_PASSWORD = 'changeme'\n",
    "ES_FEEDBACK_INDEX = 'feedback'\n",
    "\n",
    "## select the environment for ingestion\n",
    "# ES_HOST = 'http://localhost:9200/'\n",
    "ES_HOST = 'https://dev.es.chat.ask.eduworks.com/'\n",
    "# ES_HOST = 'https://qa.es.chat.ask.eduworks.com/'"
   ]
  },
  {
   "cell_type": "code",
   "execution_count": null,
   "metadata": {},
   "outputs": [],
   "source": [
    "pipeline_id = 'transform_id'\n",
    "mapping  = {\n",
    "    \"pipeline\": {\n",
    "        \"id\"    : pipeline_id,\n",
    "        \"body\"  : {\n",
    "            \"description\"   : \"Replace the _id with chat_id for the logs index\",\n",
    "            \"processors\"    : [{\n",
    "                \"set\": {\n",
    "                    \"field\": \"_id\",\n",
    "                    \"value\": \"{{chat_id}}\"\n",
    "                }\n",
    "            }]\n",
    "        }\n",
    "    },\n",
    "    \"settings\": {\n",
    "        \"number_of_shards\"  : 2, \n",
    "        \"number_of_replicas\": 1,\n",
    "        \"default_pipeline\"  : pipeline_id\n",
    "    },\n",
    "    \"mappings\": {\n",
    "        \"dynamic\"   : \"false\",\n",
    "        \"_source\"   : {\"enabled\": \"true\"},\n",
    "        \"properties\": {\n",
    "            \"chat_id\"   : {\"type\": \"keyword\", \"index\": \"true\", \"doc_values\": \"false\", \"ignore_above\": 256},\n",
    "            \"timestamp\" : {\"type\": \"date\"   , \"index\": \"true\", \"doc_values\": \"true\"},\n",
    "            \"query\"     : {\"type\": \"keyword\", \"index\": \"true\", \"doc_values\": \"false\", \"ignore_above\": 256},\n",
    "            \"feedback\"  : {\"type\": \"keyword\", \"index\": \"true\", \"doc_values\": \"false\", \"ignore_above\": 256},\n",
    "            \"setting\"   : {\n",
    "                \"dynamic\"       : \"true\",\n",
    "                \"type\"          : \"nested\",\n",
    "            },\n",
    "        }\n",
    "    }\n",
    "}"
   ]
  },
  {
   "cell_type": "code",
   "execution_count": null,
   "metadata": {},
   "outputs": [],
   "source": [
    "from elasticsearch import Elasticsearch, RequestError\n",
    "from elasticsearch.client import IngestClient\n",
    "\n",
    "\n",
    "# increase the timeout if necessary\n",
    "es_client = Elasticsearch([ES_HOST], http_auth=(ES_USERNAME, ES_PASSWORD), timeout = 20)\n",
    "es_ingest = IngestClient(es_client)\n",
    "\n",
    "# create pipeline for replacing _id with chat_id\n",
    "es_ingest.put_pipeline(\n",
    "    id   = mapping['pipeline']['id'     ],\n",
    "    body = mapping['pipeline']['body'   ])\n",
    "\n",
    "# create index\n",
    "es_client.indices.delete(\n",
    "    index   = ES_FEEDBACK_INDEX, \n",
    "    ignore  = 404)\n",
    "es_client.indices.create(\n",
    "    index       = ES_FEEDBACK_INDEX   , \n",
    "    settings    = mapping['settings']       , \n",
    "    mappings    = mapping['mappings']       )\n",
    "\n",
    "es_client.indices.refresh()"
   ]
  },
  {
   "cell_type": "markdown",
   "metadata": {},
   "source": [
    "## Reading sample events json file and transforming logs"
   ]
  },
  {
   "cell_type": "code",
   "execution_count": null,
   "metadata": {},
   "outputs": [],
   "source": [
    "from datetime import datetime\n",
    "import uuid\n",
    "\n",
    "feedback = {\n",
    "    'chat_id'   : \"some_id\" + '_' + uuid.uuid4().hex[:4],\n",
    "    'timestamp' : datetime.now().isoformat(),\n",
    "    'query'     : 'Yellow pests all over the kitchen',\n",
    "    'feedback'  : 'yes',\n",
    "    'settings'  : {\n",
    "        'client'        : 'ucipm',\n",
    "        'es_cut_off'    : 0.4,\n",
    "        'es_downweight' : 1\n",
    "    }\n",
    "}"
   ]
  },
  {
   "cell_type": "code",
   "execution_count": null,
   "metadata": {},
   "outputs": [],
   "source": [
    "try:\n",
    "    response = es_client.index(\n",
    "        index       = ES_FEEDBACK_INDEX     ,\n",
    "        document    = feedback              ,\n",
    "        id          = feedback['chat_id']   ,\n",
    "    )\n",
    "except RequestError as e:\n",
    "    raise(e)\n",
    "\n",
    "try:\n",
    "    assert response['result'] in ['created', 'updated']\n",
    "except AssertionError as e:\n",
    "    raise e\n",
    "\n",
    "response"
   ]
  },
  {
   "cell_type": "markdown",
   "metadata": {},
   "source": [
    "## Retrieving feedback"
   ]
  },
  {
   "cell_type": "code",
   "execution_count": null,
   "metadata": {},
   "outputs": [],
   "source": [
    "# date format = `dd.mm.yyyy`\n",
    "def _parse_date(aft_date = None, bfr_date = None):\n",
    "\n",
    "    \n",
    "    try:\n",
    "        if aft_date is None:\n",
    "            aft_date = datetime.min\n",
    "        else:\n",
    "\n",
    "            aft_date = datetime.strptime(aft_date, '%d.%m.%Y')\n",
    "        \n",
    "        if bfr_date is None:\n",
    "            bfr_date = datetime.max\n",
    "        else:\n",
    "            bfr_date = datetime.strptime(bfr_date, '%d.%m.%Y')\n",
    "\n",
    "        aft_date = aft_date.isoformat()\n",
    "        bfr_date = bfr_date.isoformat()\n",
    "\n",
    "    except (TypeError, ValueError) as e:\n",
    "        print(f'Input(s) should be string in the format `dd.mm.yyyy`')\n",
    "        raise(e)\n",
    "\n",
    "    return aft_date, bfr_date\n",
    "\n",
    "\n",
    "# aft_date = None\n",
    "# bfr_date = None\n",
    "aft_date = '05.05.2021'\n",
    "bfr_date = None\n",
    "aft_date, bfr_date = _parse_date(\n",
    "    aft_date = aft_date, \n",
    "    bfr_date = bfr_date\n",
    ")    \n",
    "    \n",
    "\n",
    "query = {\n",
    "    \"range\": {\"timestamp\": {\n",
    "        'gte': aft_date,\n",
    "        'lte': bfr_date \n",
    "    }}\n",
    "}\n",
    "\n",
    "response = es_client.search(\n",
    "    index   = ES_FEEDBACK_INDEX,\n",
    "    query   = query                     \n",
    ")\n",
    "\n",
    "response"
   ]
  },
  {
   "cell_type": "code",
   "execution_count": null,
   "metadata": {},
   "outputs": [],
   "source": []
  }
 ],
 "metadata": {
  "kernelspec": {
   "display_name": "Python 3.9.13 ('es-data-ingestion')",
   "language": "python",
   "name": "python3"
  },
  "language_info": {
   "codemirror_mode": {
    "name": "ipython",
    "version": 3
   },
   "file_extension": ".py",
   "mimetype": "text/x-python",
   "name": "python",
   "nbconvert_exporter": "python",
   "pygments_lexer": "ipython3",
   "version": "3.9.13"
  },
  "orig_nbformat": 4,
  "vscode": {
   "interpreter": {
    "hash": "607e550c5f7577ecefb8f11c45030a36424a53b9c08a45019262888187990ca7"
   }
  }
 },
 "nbformat": 4,
 "nbformat_minor": 2
}
