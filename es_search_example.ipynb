{
 "cells": [
  {
   "cell_type": "code",
   "execution_count": 1,
   "metadata": {},
   "outputs": [
    {
     "name": "stderr",
     "output_type": "stream",
     "text": [
      "c:\\Users\\imjef\\anaconda3\\envs\\chatbot_trainer\\lib\\site-packages\\tqdm\\auto.py:22: TqdmWarning: IProgress not found. Please update jupyter and ipywidgets. See https://ipywidgets.readthedocs.io/en/stable/user_install.html\n",
      "  from .autonotebook import tqdm as notebook_tqdm\n",
      "NOTE: Redirects are currently not supported in Windows or MacOs.\n"
     ]
    }
   ],
   "source": [
    "from elasticsearch.helpers import bulk\n",
    "from elasticsearch import Elasticsearch\n",
    "from sentence_transformers import SentenceTransformer\n",
    "import pandas as pd\n",
    "from tqdm import tqdm \n",
    "import json\n",
    "\n",
    "\n",
    "#  can download model here: https://ask.ml.eduworks.com/#/experiments/32/runs/9dce37b22a334b40be9acb81e7cbd984\n",
    "model = SentenceTransformer('./model').to('cuda') # Likely need to change to CPU for deployment\n",
    "es_host = 'http://localhost:9200'\n",
    "es = Elasticsearch([es_host], http_auth=('elastic', 'changeme'))"
   ]
  },
  {
   "cell_type": "code",
   "execution_count": 2,
   "metadata": {},
   "outputs": [
    {
     "name": "stderr",
     "output_type": "stream",
     "text": [
      "Looping through test data: 617it [03:06,  3.31it/s]\n"
     ]
    },
    {
     "data": {
      "text/plain": [
       "{'top_1_accuracy': 0.4019448946515397,\n",
       " 'top_3_accuracy': 0.5883306320907618,\n",
       " 'top_5_accuracy': 0.6612641815235009}"
      ]
     },
     "execution_count": 2,
     "metadata": {},
     "output_type": "execute_result"
    }
   ],
   "source": [
    "def get_return_items(item):\n",
    "    item.pop('vector')\n",
    "    return item\n",
    "\n",
    "\n",
    "def format_hits(hits: list, correct_link: str):\n",
    "    \"\"\"Putting in this format to evaluate test data\"\"\"\n",
    "    top_urls = [hit['url'] for hit in hits]\n",
    "    metric_logs = [{\"rank\": i+1, \"is_correct_link\": hit['url']== correct_link, \"url\": hit['url'], 'text': hit['text'], \"score\": hit['score']} for i, hit in enumerate(hits)]\n",
    "    return top_urls, metric_logs\n",
    "\n",
    "def search_for_query(query: str, index: str = 'chatbot_data', num_returns: int = 5):\n",
    "    \"\"\" Used to search elastic search index and test using the test dataset\"\"\"\n",
    "    query_vector = model.encode(query, convert_to_tensor=True).tolist()\n",
    "    cos = 'cosineSimilarity(params.query_vector, \"vector\") + 1.0'\n",
    "    script = {'source': cos, 'params': {'query_vector': query_vector}}\n",
    "    query = {\n",
    "        \"script_score\": {\n",
    "            \"query\": {\"match_all\": {}},\n",
    "            \"script\": {\n",
    "                \"source\": cos,\n",
    "                \"params\": {\"query_vector\": query_vector}\n",
    "            }\n",
    "        }\n",
    "    }\n",
    "\n",
    "    response = es.search(index=index, query=query, size=num_returns)\n",
    "    hits = [{'score': hit['_score'], **get_return_items(hit['_source'])} for hit in response['hits']['hits']]\n",
    "    return hits \n",
    "\n",
    "def get_metrics(outputs: list):\n",
    "    accuracy_list = []\n",
    "    for item in outputs: \n",
    "        if item['Top 5 Predictions'][0][\"is_correct_link\"]: \n",
    "            accuracy_list.append((1, 1, 1)) # top_1, top_3, top_5\n",
    "        elif True in [item['Top 5 Predictions'][i][\"is_correct_link\"] for i in range(3)]:\n",
    "            accuracy_list.append((0, 1, 1))\n",
    "        elif True in [item['Top 5 Predictions'][i][\"is_correct_link\"] for i in range(5)]:\n",
    "            accuracy_list.append((0, 0, 1))\n",
    "        else:\n",
    "            accuracy_list.append((0, 0, 0))\n",
    "    top_1_accuracy = sum([item[0] for item in accuracy_list])/len(accuracy_list)\n",
    "    top_3_accuracy = sum([item[1] for item in accuracy_list])/len(accuracy_list)\n",
    "    top_5_accuracy = sum([item[2] for item in accuracy_list])/len(accuracy_list)\n",
    "    return {\"top_1_accuracy\": top_1_accuracy, \"top_3_accuracy\": top_3_accuracy, \"top_5_accuracy\": top_5_accuracy}\n",
    "            \n",
    "\n",
    "\n",
    "def test_data(fn: str, sheet_name: str):\n",
    "    df = pd.read_excel(fn, sheet_name=sheet_name)\n",
    "    outputs_list = []\n",
    "    for i, row in tqdm(df.iterrows(), desc=\"Looping through test data\"): \n",
    "        original_url = row['resource'] if 'resource' in df.columns else row['URL']\n",
    "        if isinstance(original_url, str):\n",
    "            url = f\"https://{original_url}\" if \"http\" not in original_url else original_url\n",
    "            question = row['question'] if 'question' in df.columns else row['Question']\n",
    "            hits = search_for_query(question)\n",
    "            top_urls, metric_logs = format_hits(hits, url)\n",
    "            is_correct = True if metric_logs[0]['is_correct_link'] else 0\n",
    "            output_log = {\"question\":  question, \"is_correct\": is_correct, \"Top 5 Predictions\": metric_logs}\n",
    "            \n",
    "            outputs_list.append(output_log)\n",
    "    with open('outputs.json', 'w', encoding='utf-8') as f:\n",
    "        json.dump(outputs_list, f, ensure_ascii=False, indent=4)\n",
    "    return get_metrics(outputs_list)\n",
    "test_data('./data/AE_test_QA_chatbot_v2.xlsx', 'made_up_OK_OR')\n"
   ]
  }
 ],
 "metadata": {
  "kernelspec": {
   "display_name": "Python 3.10.6 ('chatbot_trainer')",
   "language": "python",
   "name": "python3"
  },
  "language_info": {
   "codemirror_mode": {
    "name": "ipython",
    "version": 3
   },
   "file_extension": ".py",
   "mimetype": "text/x-python",
   "name": "python",
   "nbconvert_exporter": "python",
   "pygments_lexer": "ipython3",
   "version": "3.10.6"
  },
  "orig_nbformat": 4,
  "vscode": {
   "interpreter": {
    "hash": "e9cd7a603632961df56daef25fa85b0b020e89f00557eedce2d632072d22e5c9"
   }
  }
 },
 "nbformat": 4,
 "nbformat_minor": 2
}
