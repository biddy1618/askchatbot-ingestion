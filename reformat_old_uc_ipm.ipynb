{
 "cells": [
  {
   "cell_type": "code",
   "execution_count": 5,
   "metadata": {},
   "outputs": [
    {
     "name": "stderr",
     "output_type": "stream",
     "text": [
      "100%|██████████| 15/15 [00:00<00:00, 433.11it/s]\n"
     ]
    }
   ],
   "source": [
    "import json\n",
    "import os \n",
    "import re \n",
    "from tqdm import tqdm\n",
    "\n",
    "text_keys = ['contentQuickTips', 'description', 'tips']\n",
    "url_keys = ['urlQuickTip', 'url']\n",
    "\n",
    "def load_json(fn):\n",
    "    with open(fn, 'r', encoding='utf-8') as f:\n",
    "        return json.load(f)\n",
    "def clean_txt(txt):\n",
    "    txt = txt.replace('_', ' ')\n",
    "    return txt.strip()\n",
    "\n",
    "def clean_header(txt, title):\n",
    "    txt = re.sub('([^A-Z]+)', r'\\1 ', txt)\n",
    "    txt = txt[0].upper() + txt[1:]\n",
    "    if \"Pest Note\" in txt: \n",
    "        txt = txt.replace(\"Pest Note\", \"\").strip()\n",
    "        txt = f\"{title} {txt}\"\n",
    "    return txt.strip()\n",
    "\n",
    "def reformat_uc_ipm():\n",
    "    \"\"\"Loads in all the old UC IPM data and attempts to put into the same format as natural enemies json\"\"\"\n",
    "    fns = [f\"./uc_ipm_old/{fn}\" for fn in os.listdir('./uc_ipm_old') if fn.endswith('.json')]\n",
    "    for fn in tqdm(fns): \n",
    "        data = load_json(fn)\n",
    "        for item in data:\n",
    "            new_item = {\"title\": \"\", \"link\": \"\", \"pubdate\": \"\", \"displaydata\": \"\", \"authors\": [], \"content\": [], \"images\": []}\n",
    "            title = ''\n",
    "            for key, value in item.items():\n",
    "                if 'url' in key and isinstance(value, str):\n",
    "                    new_item['link'] = value.replace(\"?src=exchbt\", \"\") \n",
    "                elif 'name' in key and isinstance(value, str):\n",
    "                    title = value\n",
    "                    new_item['title'] = value\n",
    "                elif 'image' in key and isinstance(value, list):\n",
    "                    if value and  'src' in value[0]:\n",
    "                        new_item['images'] = [{'src': img_item['src'].replace(\"?src=exchbt\", \"\"), 'alt': img_item['caption']} for img_item in value]\n",
    "                    elif value and 'link' in value[0] and value[0]['link']:\n",
    "                        new_item['images'] = [{'src': img_item['link'].replace(\"?src=exchbt\", \"\"), 'alt': img_item['caption']} for img_item in value]\n",
    "                elif isinstance(value, str) and value:\n",
    "                    header = clean_txt(key)\n",
    "                    text = clean_txt(value)\n",
    "                    new_item['content'].append({\"header\": clean_header(header, title), \"text\": text})\n",
    "            if new_item['content'] or new_item['images']:\n",
    "                yield new_item\n",
    "def main():\n",
    "    \"\"\"Calls reformat_uc_ipm and saves as json\"\"\"\n",
    "    data = list(reformat_uc_ipm())\n",
    "    with open('./data/old_uc_ipm.json', 'w', encoding='utf-8') as f:\n",
    "        json.dump(data, f, indent=2, ensure_ascii=False)\n",
    "main()"
   ]
  },
  {
   "cell_type": "code",
   "execution_count": 2,
   "metadata": {},
   "outputs": [],
   "source": [
    "import json\n",
    "with open('raw_ask_extension_data.json', 'r', encoding='utf-8') as f:\n",
    "    data = json.load(f)"
   ]
  },
  {
   "cell_type": "code",
   "execution_count": 3,
   "metadata": {},
   "outputs": [
    {
     "data": {
      "text/plain": [
       "{'faq-id': 109900,\n",
       " 'title': 'When can I plant blue spruce trees in Colorado? #109900',\n",
       " 'created': '2012-12-03 15:53:47',\n",
       " 'updated': '2014-09-16 18:32:47',\n",
       " 'state': 'Colorado',\n",
       " 'county': 'El Paso County',\n",
       " 'tags': ['trees and shrubs'],\n",
       " 'question': 'I need to plant two blue spruce trees that are currently in 24\" diameter plastic containers with drain holes in the bottom sides.\\n\\nLocation: northeast side of Colorado Springs.\\n\\nThese trees are currently outside on the patio and susceptible to the wind and sun. The trees were watered this past Saturday and seem to be healthy.\\n\\nQuestion: Can these trees be planted now? Currently the soil is not frozen and night time temps are 35 to 40 degrees.\\n\\nI have downloaded and read CMG GardenNotes #633 as a reference.\\n\\nAny advice would be greatly appreciated. ',\n",
       " 'answer': {'1': {'response': 'Jerry, \\nyou can plant them now (a) OR temporarily \"plant\" them, still in containers, so that roots have some insulation from cold (b).\\n\\n(a) if you know where you want these trees to be planted (check for overhead utility lines AND for underground utility lines before digging by calling 8-1-1), dig holes 2-3X as wide as rootball and as deep as the rootball or slightly shallower.  To excavated soil, add organic matter (compost, shhagnum peat, etc) at 20% by volume.  Mix thoroughly to homogenize.    \\nInspect rootball for circling roots and tease them out of circling pattern if possible.   Plant tree so that top of rootball is at or a couple inches above grade.   Backfill with amended excavated soil.  Water well and add more soil where settling occurs.\\nMulch planting area with 2-3 inches of wood chips or similar mulch.   Water again to settle mulch.    Water again in a week and continue watering weekly until there is cold and snowcover.  Water again if weather warms, snowcover  melts and soils begin to dry out.\\n\\n(b) to \"store\" potted spruces temporarily in soil area (N or E exposure better than S or W), dig holes 1.5X as wide and same depth as rootball. Sink pots into holes and backfill.  Mulch surface of rootball in pot with straw or woodchips.   Water rootballs in pots and repeat whenever weather has been warm and there is no snowcover.   Plant spruces in permanent spot next April as per (a) above. ',\n",
       "   'author': 'Robert Cox'}}}"
      ]
     },
     "execution_count": 3,
     "metadata": {},
     "output_type": "execute_result"
    }
   ],
   "source": [
    "data[0]"
   ]
  }
 ],
 "metadata": {
  "kernelspec": {
   "display_name": "Python 3.10.6 ('chatbot_trainer')",
   "language": "python",
   "name": "python3"
  },
  "language_info": {
   "codemirror_mode": {
    "name": "ipython",
    "version": 3
   },
   "file_extension": ".py",
   "mimetype": "text/x-python",
   "name": "python",
   "nbconvert_exporter": "python",
   "pygments_lexer": "ipython3",
   "version": "3.10.8"
  },
  "orig_nbformat": 4,
  "vscode": {
   "interpreter": {
    "hash": "e9cd7a603632961df56daef25fa85b0b020e89f00557eedce2d632072d22e5c9"
   }
  }
 },
 "nbformat": 4,
 "nbformat_minor": 2
}
