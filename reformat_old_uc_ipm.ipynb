{
 "cells": [
  {
   "cell_type": "code",
   "execution_count": 12,
   "metadata": {},
   "outputs": [
    {
     "name": "stderr",
     "output_type": "stream",
     "text": [
      "100%|██████████| 15/15 [00:00<00:00, 637.91it/s]\n"
     ]
    }
   ],
   "source": [
    "import json\n",
    "import os \n",
    "import re \n",
    "from tqdm import tqdm\n",
    "\n",
    "text_keys = ['contentQuickTips', 'description', 'tips']\n",
    "url_keys = ['urlQuickTip', 'url']\n",
    "\n",
    "def load_json(fn):\n",
    "    with open(fn, 'r', encoding='utf-8') as f:\n",
    "        return json.load(f)\n",
    "def clean_txt(txt):\n",
    "    txt = txt.replace('_', ' ')\n",
    "    return txt.strip()\n",
    "\n",
    "def reformat_uc_ipm():\n",
    "    \"\"\"Loads in all the old UC IPM data and attempts to put into the same format as natural enemies json\"\"\"\n",
    "    fns = [f\"./uc_ipm_old/{fn}\" for fn in os.listdir('./uc_ipm_old') if fn.endswith('.json')]\n",
    "    for fn in tqdm(fns): \n",
    "        data = load_json(fn)\n",
    "        for item in data:\n",
    "            new_item = {\"title\": \"\", \"link\": \"\", \"pubdate\": \"\", \"displaydata\": \"\", \"authors\": [], \"content\": [], \"images\": []}\n",
    "            for key, value in item.items():\n",
    "                if 'url' in key and isinstance(value, str):\n",
    "                    new_item['link'] = value\n",
    "                elif 'name' in key and isinstance(value, str):\n",
    "                    new_item['title'] = value\n",
    "                elif 'image' in key and isinstance(value, list):\n",
    "                    if value and 'link' in value[0]:\n",
    "                        new_item['images'] = [{'src': img_item['link'], 'alt': img_item['caption']} for img_item in value]\n",
    "                    elif value and  'src' in value[0]:\n",
    "                        new_item['images'] = [{'src': img_item['src'], 'alt': img_item['caption']} for img_item in value]\n",
    "                elif isinstance(value, str) and value:\n",
    "                    header = clean_txt(key)\n",
    "                    text = clean_txt(value)\n",
    "                    new_item['content'].append({\"header\": header, \"text\": text})\n",
    "            if new_item['content'] or new_item['images']:\n",
    "                yield new_item\n",
    "def main():\n",
    "    \"\"\"Calls reformat_uc_ipm and saves as json\"\"\"\n",
    "    data = list(reformat_uc_ipm())\n",
    "    with open('./data/old_uc_ipm.json', 'w', encoding='utf-8') as f:\n",
    "        json.dump(data, f, indent=2, ensure_ascii=False)\n",
    "main()"
   ]
  },
  {
   "cell_type": "code",
   "execution_count": null,
   "metadata": {},
   "outputs": [],
   "source": []
  }
 ],
 "metadata": {
  "kernelspec": {
   "display_name": "Python 3.10.6 ('chatbot_trainer')",
   "language": "python",
   "name": "python3"
  },
  "language_info": {
   "codemirror_mode": {
    "name": "ipython",
    "version": 3
   },
   "file_extension": ".py",
   "mimetype": "text/x-python",
   "name": "python",
   "nbconvert_exporter": "python",
   "pygments_lexer": "ipython3",
   "version": "3.10.6"
  },
  "orig_nbformat": 4,
  "vscode": {
   "interpreter": {
    "hash": "e9cd7a603632961df56daef25fa85b0b020e89f00557eedce2d632072d22e5c9"
   }
  }
 },
 "nbformat": 4,
 "nbformat_minor": 2
}
